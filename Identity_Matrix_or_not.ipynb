{
  "nbformat": 4,
  "nbformat_minor": 0,
  "metadata": {
    "colab": {
      "name": "Identity Matrix or not",
      "provenance": [],
      "authorship_tag": "ABX9TyOSftees3qOYcLSR3hIxswL",
      "include_colab_link": true
    },
    "kernelspec": {
      "name": "python3",
      "display_name": "Python 3"
    },
    "language_info": {
      "name": "python"
    }
  },
  "cells": [
    {
      "cell_type": "markdown",
      "metadata": {
        "id": "view-in-github",
        "colab_type": "text"
      },
      "source": [
        "<a href=\"https://colab.research.google.com/github/ronikapaul2000/Machine_Learning_Lab/blob/main/Identity_Matrix_or_not.ipynb\" target=\"_parent\"><img src=\"https://colab.research.google.com/assets/colab-badge.svg\" alt=\"Open In Colab\"/></a>"
      ]
    },
    {
      "cell_type": "code",
      "execution_count": null,
      "metadata": {
        "colab": {
          "base_uri": "https://localhost:8080/"
        },
        "id": "pmmGjYsPOmXf",
        "outputId": "42e4025e-7291-4ad5-85d0-d84d26cf831f"
      },
      "outputs": [
        {
          "output_type": "stream",
          "name": "stdout",
          "text": [
            "Enter the row Size Of the Matrix:2\n",
            "Enter the columns Size Of the Matrix:2\n",
            "Enter the Matrix Element:\n",
            "1\n",
            "0\n",
            "Given Matrix is an identity matrix.\n"
          ]
        }
      ],
      "source": [
        "row_size=int(input(\"Enter the row Size Of the Matrix:\"))\n",
        "col_size=int(input(\"Enter the columns Size Of the Matrix:\"))\n",
        "\n",
        "matrix=[]\n",
        "print(\"Enter the Matrix Element:\")\n",
        "for i in range(row_size):\n",
        "    matrix.append([int(j) for j in input().split()])\n",
        "\n",
        "point=0\n",
        "for i in range(len(matrix)):\n",
        "    for j in range(len(matrix[0])):\n",
        "        if i == j and matrix[i][j] != 1:\n",
        "            point=1\n",
        "            break\n",
        "        elif i!=j and matrix[i][j]!=0:\n",
        "            point=1\n",
        "            break\n",
        "\n",
        "if point==1:\n",
        "    print(\"Given Matrix is not an identity matrix.\")\n",
        "else:\n",
        "    print(\"Given Matrix is an identity matrix.\")"
      ]
    }
  ]
}