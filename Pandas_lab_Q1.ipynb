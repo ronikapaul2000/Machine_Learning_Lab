{
  "nbformat": 4,
  "nbformat_minor": 0,
  "metadata": {
    "colab": {
      "provenance": [],
      "authorship_tag": "ABX9TyM28EFfaCiC8aQam0KXoY/k",
      "include_colab_link": true
    },
    "kernelspec": {
      "name": "python3",
      "display_name": "Python 3"
    },
    "language_info": {
      "name": "python"
    }
  },
  "cells": [
    {
      "cell_type": "markdown",
      "metadata": {
        "id": "view-in-github",
        "colab_type": "text"
      },
      "source": [
        "<a href=\"https://colab.research.google.com/github/ronikapaul2000/Machine_Learning_Lab/blob/main/Pandas_lab_Q1.ipynb\" target=\"_parent\"><img src=\"https://colab.research.google.com/assets/colab-badge.svg\" alt=\"Open In Colab\"/></a>"
      ]
    },
    {
      "cell_type": "code",
      "execution_count": null,
      "metadata": {
        "colab": {
          "base_uri": "https://localhost:8080/"
        },
        "id": "p1MY0uTxabmR",
        "outputId": "1cc812c9-711b-43c4-c55d-a328ef43035a"
      },
      "outputs": [
        {
          "output_type": "stream",
          "name": "stdout",
          "text": [
            "0    10\n",
            "1    15\n",
            "2    18\n",
            "3    22\n",
            "4    30\n",
            "dtype: int64\n"
          ]
        }
      ],
      "source": [
        "import pandas as pd\n",
        "import numpy as np \n",
        "arr=np.array([10,15,18,22,30])\n",
        "s = pd.Series(arr)\n",
        "print(s)"
      ]
    },
    {
      "cell_type": "code",
      "source": [
        "import pandas as pd\n",
        "\n",
        "import numpy as np\n",
        "arr=np.array(['a','b','c','d','e'])\n",
        "s=pd.Series(arr,\n",
        "index=['first','second','third','fourth','fifth'])\n",
        "print(s)"
      ],
      "metadata": {
        "colab": {
          "base_uri": "https://localhost:8080/"
        },
        "id": "bVpekPJtazhb",
        "outputId": "1f465d88-7731-4e7a-8fd9-3468a956ed8b"
      },
      "execution_count": null,
      "outputs": [
        {
          "output_type": "stream",
          "name": "stdout",
          "text": [
            "first     a\n",
            "second    b\n",
            "third     c\n",
            "fourth    d\n",
            "fifth     e\n",
            "dtype: object\n"
          ]
        }
      ]
    },
    {
      "cell_type": "code",
      "source": [
        "import pandas as pd\n",
        "#createadictionary\n",
        "d={'Name':'Hardik','Iplteam':'MI','Runs':1500}\n",
        "#createaseries\n",
        "s=pd.Series(d)\n",
        "print(s)"
      ],
      "metadata": {
        "colab": {
          "base_uri": "https://localhost:8080/"
        },
        "id": "Z6sVALHkbWgS",
        "outputId": "8cc04001-c483-4795-94a0-ee73b78f743f"
      },
      "execution_count": null,
      "outputs": [
        {
          "output_type": "stream",
          "name": "stdout",
          "text": [
            "Name       Hardik\n",
            "Iplteam        MI\n",
            "Runs         1500\n",
            "dtype: object\n"
          ]
        }
      ]
    },
    {
      "cell_type": "code",
      "source": [
        "import pandas as pd\n",
        "s = pd . Series ( [ 1,2,3,4,5 ] )\n",
        "print ( \" To Multiply all values in a series by 2 \" )\n",
        "print ( \"---------------------------------------------\")\n",
        "print ( s*2 )\n",
        "print ( \" To Find the Square of all the values in a series \" )\n",
        "print ( \"-----------------------------------------------------\" )\n",
        "print ( s ** 2 )\n",
        "print ( \" To print all the values in a series that are greater than 2 \" )\n",
        "print ('-----------------------------------------------------------------' ) \n",
        "print ( s [ s > 2 ] )\n",
        "                                                          "
      ],
      "metadata": {
        "id": "BQa1c9X6bcfx",
        "colab": {
          "base_uri": "https://localhost:8080/"
        },
        "outputId": "2a6fe233-70db-4a38-837e-1962be20a7cc"
      },
      "execution_count": 1,
      "outputs": [
        {
          "output_type": "stream",
          "name": "stdout",
          "text": [
            " To Multiply all values in a series by 2 \n",
            "---------------------------------------------\n",
            "0     2\n",
            "1     4\n",
            "2     6\n",
            "3     8\n",
            "4    10\n",
            "dtype: int64\n",
            " To Find the Square of all the values in a series \n",
            "-----------------------------------------------------\n",
            "0     1\n",
            "1     4\n",
            "2     9\n",
            "3    16\n",
            "4    25\n",
            "dtype: int64\n",
            " To print all the values in a series that are greater than 2 \n",
            "-----------------------------------------------------------------\n",
            "2    3\n",
            "3    4\n",
            "4    5\n",
            "dtype: int64\n"
          ]
        }
      ]
    },
    {
      "cell_type": "code",
      "source": [
        "import pandas as pd\n",
        "s1 = pd.Series ( [ 1,2,3,4,5 ] , index = [ ' a ' , ' b ' , ' c ' , ' d ' , ' e ' ] )\n",
        "s2 = pd.Series ( [ 10,20,30,40,50 ] , index = [ ' a ' , ' b ' , ' c ' , ' d ' , ' e ' ] )\n",
        "\n",
        "print ( ' To Add Series1 & series2 ' )\n",
        "print (\"--------------------------------\")\n",
        "print ( s1 + s2 )"
      ],
      "metadata": {
        "colab": {
          "base_uri": "https://localhost:8080/"
        },
        "id": "r07uOzQvJZin",
        "outputId": "b81312f0-4938-4afb-8787-fbc970183cb8"
      },
      "execution_count": 2,
      "outputs": [
        {
          "output_type": "stream",
          "name": "stdout",
          "text": [
            " To Add Series1 & series2 \n",
            "--------------------------------\n",
            " a     11\n",
            " b     22\n",
            " c     33\n",
            " d     44\n",
            " e     55\n",
            "dtype: int64\n"
          ]
        }
      ]
    },
    {
      "cell_type": "code",
      "source": [
        "import pandas as pd\n",
        "import numpy as np\n",
        "arr=np.array([ 10,15,18,22,39,55,61,77,42,48,97])\n",
        "s=pd.Series(arr)\n",
        "print(s.head(5))\n",
        "print(s.tail(5))"
      ],
      "metadata": {
        "colab": {
          "base_uri": "https://localhost:8080/"
        },
        "id": "dABDZA3TKC_T",
        "outputId": "6ea3ed3f-9ee1-4bca-bf69-1aa2e60a2c8f"
      },
      "execution_count": 6,
      "outputs": [
        {
          "output_type": "stream",
          "name": "stdout",
          "text": [
            "0    10\n",
            "1    15\n",
            "2    18\n",
            "3    22\n",
            "4    39\n",
            "dtype: int64\n",
            "6     61\n",
            "7     77\n",
            "8     42\n",
            "9     48\n",
            "10    97\n",
            "dtype: int64\n"
          ]
        }
      ]
    },
    {
      "cell_type": "code",
      "source": [
        "import pandas as pd\n",
        "import numpy as np \n",
        "arr=np.array([ 10,15,18,22,55,77,81,94])\n",
        "s=pd.Series(arr) \n",
        "\n",
        "print(s.loc[0:5])\n",
        "                             "
      ],
      "metadata": {
        "colab": {
          "base_uri": "https://localhost:8080/"
        },
        "id": "kFZ9GpvxLf-6",
        "outputId": "318fa505-c7ae-4f87-e54c-d240f4279edb"
      },
      "execution_count": 10,
      "outputs": [
        {
          "output_type": "stream",
          "name": "stdout",
          "text": [
            "0    10\n",
            "1    15\n",
            "2    18\n",
            "3    22\n",
            "4    55\n",
            "5    77\n",
            "dtype: int64\n"
          ]
        }
      ]
    },
    {
      "cell_type": "code",
      "source": [
        "import pandas as pd\n",
        "import numpy as np\n",
        "arr=np.array([ 10,15,18,22,55,77,81,88,90,94,100])\n",
        "s=pd.Series(arr)\n",
        "print(\"Elements in the array\")\n",
        "print(s)\n",
        "print(\"To print values from index 0 to 3\")\n",
        "print(s.loc[:3])\n",
        "print(\"To print values from index 5 to 9\")\n",
        "print(s.iloc[3:4]) \n",
        "\n",
        "                        \n",
        "                                "
      ],
      "metadata": {
        "colab": {
          "base_uri": "https://localhost:8080/"
        },
        "id": "LsdY-FPIMYkR",
        "outputId": "dba2ee29-6bf0-45e3-a391-3d604c559781"
      },
      "execution_count": 12,
      "outputs": [
        {
          "output_type": "stream",
          "name": "stdout",
          "text": [
            "Elements in the array\n",
            "0      10\n",
            "1      15\n",
            "2      18\n",
            "3      22\n",
            "4      55\n",
            "5      77\n",
            "6      81\n",
            "7      88\n",
            "8      90\n",
            "9      94\n",
            "10    100\n",
            "dtype: int64\n",
            "To print values from index 0 to 3\n",
            "0    10\n",
            "1    15\n",
            "2    18\n",
            "3    22\n",
            "dtype: int64\n",
            "To print values from index 5 to 9\n",
            "3    22\n",
            "dtype: int64\n"
          ]
        }
      ]
    },
    {
      "cell_type": "code",
      "source": [
        "import pandas as pd\n",
        "import numpy as np\n",
        "arr=np.array([10,15,18,22,55,77])\n",
        "s=pd.Series(arr,index=['A','B','C','D','E','F'])\n",
        "print(\"Elements in the array\")\n",
        "print ( s )\n",
        "print(\"To print values from index 0 to 5 by step 2\")\n",
        "print ( s [ 0 : 5 : 3 ] )\n"
      ],
      "metadata": {
        "colab": {
          "base_uri": "https://localhost:8080/"
        },
        "id": "qGojQssbPXqg",
        "outputId": "ff95c201-d599-448b-fa88-9edb2a342a3f"
      },
      "execution_count": 16,
      "outputs": [
        {
          "output_type": "stream",
          "name": "stdout",
          "text": [
            "Elements in the array\n",
            "A    10\n",
            "B    15\n",
            "C    18\n",
            "D    22\n",
            "E    55\n",
            "F    77\n",
            "dtype: int64\n",
            "To print values from index 0 to 5 by step 2\n",
            "A    10\n",
            "D    22\n",
            "dtype: int64\n"
          ]
        }
      ]
    }
  ]
}