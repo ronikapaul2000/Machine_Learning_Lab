{
  "nbformat": 4,
  "nbformat_minor": 0,
  "metadata": {
    "colab": {
      "name": "Pandas_lab_Q1.ipynb",
      "provenance": [],
      "authorship_tag": "ABX9TyPiiHFFjGCWMM57vCCzkzTC",
      "include_colab_link": true
    },
    "kernelspec": {
      "name": "python3",
      "display_name": "Python 3"
    },
    "language_info": {
      "name": "python"
    }
  },
  "cells": [
    {
      "cell_type": "markdown",
      "metadata": {
        "id": "view-in-github",
        "colab_type": "text"
      },
      "source": [
        "<a href=\"https://colab.research.google.com/github/ronikapaul2000/Machine_Learning_Lab/blob/main/Pandas_lab_Q1.ipynb\" target=\"_parent\"><img src=\"https://colab.research.google.com/assets/colab-badge.svg\" alt=\"Open In Colab\"/></a>"
      ]
    },
    {
      "cell_type": "code",
      "execution_count": null,
      "metadata": {
        "colab": {
          "base_uri": "https://localhost:8080/"
        },
        "id": "p1MY0uTxabmR",
        "outputId": "1cc812c9-711b-43c4-c55d-a328ef43035a"
      },
      "outputs": [
        {
          "output_type": "stream",
          "name": "stdout",
          "text": [
            "0    10\n",
            "1    15\n",
            "2    18\n",
            "3    22\n",
            "4    30\n",
            "dtype: int64\n"
          ]
        }
      ],
      "source": [
        "import pandas as pd\n",
        "import numpy as np \n",
        "arr=np.array([10,15,18,22,30])\n",
        "s = pd.Series(arr)\n",
        "print(s)"
      ]
    },
    {
      "cell_type": "code",
      "source": [
        "import pandas as pd\n",
        "\n",
        "import numpy as np\n",
        "arr=np.array(['a','b','c','d','e'])\n",
        "s=pd.Series(arr,\n",
        "index=['first','second','third','fourth','fifth'])\n",
        "print(s)"
      ],
      "metadata": {
        "colab": {
          "base_uri": "https://localhost:8080/"
        },
        "id": "bVpekPJtazhb",
        "outputId": "1f465d88-7731-4e7a-8fd9-3468a956ed8b"
      },
      "execution_count": null,
      "outputs": [
        {
          "output_type": "stream",
          "name": "stdout",
          "text": [
            "first     a\n",
            "second    b\n",
            "third     c\n",
            "fourth    d\n",
            "fifth     e\n",
            "dtype: object\n"
          ]
        }
      ]
    },
    {
      "cell_type": "code",
      "source": [
        "import pandas as pd\n",
        "#createadictionary\n",
        "d={'Name':'Hardik','Iplteam':'MI','Runs':1500}\n",
        "#createaseries\n",
        "s=pd.Series(d)\n",
        "print(s)"
      ],
      "metadata": {
        "colab": {
          "base_uri": "https://localhost:8080/"
        },
        "id": "Z6sVALHkbWgS",
        "outputId": "8cc04001-c483-4795-94a0-ee73b78f743f"
      },
      "execution_count": null,
      "outputs": [
        {
          "output_type": "stream",
          "name": "stdout",
          "text": [
            "Name       Hardik\n",
            "Iplteam        MI\n",
            "Runs         1500\n",
            "dtype: object\n"
          ]
        }
      ]
    },
    {
      "cell_type": "code",
      "source": [],
      "metadata": {
        "id": "BQa1c9X6bcfx"
      },
      "execution_count": null,
      "outputs": []
    }
  ]
}