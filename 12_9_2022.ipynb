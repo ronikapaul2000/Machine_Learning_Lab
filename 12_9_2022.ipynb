{
  "nbformat": 4,
  "nbformat_minor": 0,
  "metadata": {
    "colab": {
      "provenance": [],
      "authorship_tag": "ABX9TyMd2SKr0oZ5ts5W92tvW0aH",
      "include_colab_link": true
    },
    "kernelspec": {
      "name": "python3",
      "display_name": "Python 3"
    },
    "language_info": {
      "name": "python"
    }
  },
  "cells": [
    {
      "cell_type": "markdown",
      "metadata": {
        "id": "view-in-github",
        "colab_type": "text"
      },
      "source": [
        "<a href=\"https://colab.research.google.com/github/ronikapaul2000/Machine_Learning_Lab/blob/main/12_9_2022.ipynb\" target=\"_parent\"><img src=\"https://colab.research.google.com/assets/colab-badge.svg\" alt=\"Open In Colab\"/></a>"
      ]
    },
    {
      "cell_type": "code",
      "execution_count": null,
      "metadata": {
        "id": "qY1tUSVRi-jJ"
      },
      "outputs": [],
      "source": [
        "from sklearn.datasets import load_iris\n",
        "from sklearn.preprocessing import MinMaxScaler\n",
        "import numpy as np\n",
        "X, y = load_iris(return_X_y=True)\n",
        "print(X.shape)\n",
        "scaler = MinMaxScaler()\n",
        "scaler.fit(X)\n",
        "X_scaled = scaler.transform(X)\n",
        "X_scaled"
      ]
    },
    {
      "cell_type": "code",
      "source": [
        "import matplotlib.pyplot as plt\n",
        "fig, axes = plt.subplots(1,2)\n",
        "axes[0].scatter(X[:,0], X[:,1], c=y)\n",
        "axes[0].set_title(\"Original data\")\n",
        "axes[1].scatter(X_scaled[:,0], X_scaled[:,1], c=y)\n",
        "axes[1].set_title(\"MinMax scaled data\")\n",
        "plt.show()"
      ],
      "metadata": {
        "id": "_RcRsZRJjTy2"
      },
      "execution_count": null,
      "outputs": []
    },
    {
      "cell_type": "code",
      "source": [
        "from sklearn.model_selection import train_test_split\n",
        "X_train, X_test, y_train, y_test = train_test_split(\n",
        "    X, y, test_size=0.2, random_state=42, stratify = y)"
      ],
      "metadata": {
        "id": "YAFaVI0ZjX4t"
      },
      "execution_count": null,
      "outputs": []
    },
    {
      "cell_type": "code",
      "source": [
        "from sklearn.neighbors import KNeighborsClassifier\n",
        "model=KNeighborsClassifier(n_neighbors=5,metric='minkowski')\n",
        "model.fit(X_train, y_train)\n",
        "y_pred=model.predict(X_test)\n",
        "model.score(X_test, y_test)"
      ],
      "metadata": {
        "id": "iWm6JFKMjbPU"
      },
      "execution_count": null,
      "outputs": []
    },
    {
      "cell_type": "code",
      "source": [],
      "metadata": {
        "id": "DPUF4rrOjd4U"
      },
      "execution_count": null,
      "outputs": []
    }
  ]
}