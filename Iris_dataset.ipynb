{
  "nbformat": 4,
  "nbformat_minor": 0,
  "metadata": {
    "colab": {
      "name": "Iris dataset",
      "provenance": [],
      "authorship_tag": "ABX9TyOTuvvqH7JZWtgKs56PduIK",
      "include_colab_link": true
    },
    "kernelspec": {
      "name": "python3",
      "display_name": "Python 3"
    },
    "language_info": {
      "name": "python"
    }
  },
  "cells": [
    {
      "cell_type": "markdown",
      "metadata": {
        "id": "view-in-github",
        "colab_type": "text"
      },
      "source": [
        "<a href=\"https://colab.research.google.com/github/ronikapaul2000/Machine_Learning_Lab/blob/main/Iris_dataset.ipynb\" target=\"_parent\"><img src=\"https://colab.research.google.com/assets/colab-badge.svg\" alt=\"Open In Colab\"/></a>"
      ]
    },
    {
      "cell_type": "code",
      "execution_count": null,
      "metadata": {
        "colab": {
          "base_uri": "https://localhost:8080/",
          "height": 547
        },
        "id": "udNkL28UUUBa",
        "outputId": "2c27b2e5-4ecd-483b-8cbc-b2fd1a561dfc"
      },
      "outputs": [
        {
          "output_type": "stream",
          "name": "stdout",
          "text": [
            "   Sepal_Length  Sepal_Width  Petal_Length  Petal_Width        Class\n",
            "0           5.1          3.5           1.4          0.2  Iris-setosa\n",
            "1           4.9          3.0           1.4          0.2  Iris-setosa\n",
            "2           4.7          3.2           1.3          0.2  Iris-setosa\n",
            "3           4.6          3.1           1.5          0.2  Iris-setosa\n",
            "4           5.0          3.6           1.4          0.2  Iris-setosa\n",
            "     Sepal_Length  Sepal_Width  Petal_Length  Petal_Width           Class\n",
            "145           6.7          3.0           5.2          2.3  Iris-virginica\n",
            "146           6.3          2.5           5.0          1.9  Iris-virginica\n",
            "147           6.5          3.0           5.2          2.0  Iris-virginica\n",
            "148           6.2          3.4           5.4          2.3  Iris-virginica\n",
            "149           5.9          3.0           5.1          1.8  Iris-virginica\n",
            "Sepal_Length    float64\n",
            "Sepal_Width     float64\n",
            "Petal_Length    float64\n",
            "Petal_Width     float64\n",
            "Class            object\n",
            "dtype: object\n"
          ]
        },
        {
          "output_type": "error",
          "ename": "NameError",
          "evalue": "ignored",
          "traceback": [
            "\u001b[0;31m---------------------------------------------------------------------------\u001b[0m",
            "\u001b[0;31mNameError\u001b[0m                                 Traceback (most recent call last)",
            "\u001b[0;32m<ipython-input-2-75062c2192a5>\u001b[0m in \u001b[0;36m<module>\u001b[0;34m()\u001b[0m\n\u001b[1;32m     19\u001b[0m \u001b[0;31m# View the index of the DataFrame\u001b[0m\u001b[0;34m\u001b[0m\u001b[0;34m\u001b[0m\u001b[0;34m\u001b[0m\u001b[0m\n\u001b[1;32m     20\u001b[0m \u001b[0miris\u001b[0m\u001b[0;34m.\u001b[0m\u001b[0mindex\u001b[0m\u001b[0;34m\u001b[0m\u001b[0;34m\u001b[0m\u001b[0m\n\u001b[0;32m---> 21\u001b[0;31m \u001b[0mRangeIndex\u001b[0m\u001b[0;34m(\u001b[0m\u001b[0mstart\u001b[0m\u001b[0;34m=\u001b[0m\u001b[0;36m0\u001b[0m\u001b[0;34m,\u001b[0m \u001b[0mstop\u001b[0m\u001b[0;34m=\u001b[0m\u001b[0;36m150\u001b[0m\u001b[0;34m,\u001b[0m \u001b[0mstep\u001b[0m\u001b[0;34m=\u001b[0m\u001b[0;36m1\u001b[0m\u001b[0;34m)\u001b[0m\u001b[0;34m\u001b[0m\u001b[0;34m\u001b[0m\u001b[0m\n\u001b[0m\u001b[1;32m     22\u001b[0m \u001b[0;31m# View the columns of the DataFrame\u001b[0m\u001b[0;34m\u001b[0m\u001b[0;34m\u001b[0m\u001b[0;34m\u001b[0m\u001b[0m\n\u001b[1;32m     23\u001b[0m \u001b[0miris\u001b[0m\u001b[0;34m.\u001b[0m\u001b[0mcolumns\u001b[0m\u001b[0;34m\u001b[0m\u001b[0;34m\u001b[0m\u001b[0m\n",
            "\u001b[0;31mNameError\u001b[0m: name 'RangeIndex' is not defined"
          ]
        }
      ],
      "source": [
        "import pandas as pd\n",
        "csv_url = 'https://archive.ics.uci.edu/ml/machine-learning-databases/iris/iris.data'\n",
        "col_names = ['Sepal_Length','Sepal_Width','Petal_Length','Petal_Width','Class']\n",
        "iris =  pd.read_csv(csv_url, names = col_names)\n",
        "print(iris.head())\n",
        "print(iris.tail())\n",
        "print(iris.dtypes)\n",
        "\n",
        "csv_url = 'https://archive.ics.uci.edu/ml/machine-learning-databases/iris/iris.data'\n",
        "iris = pd.read_csv(csv_url, header = None)\n",
        "col_names = ['Sepal_Length','Sepal_Width','Petal_Length','Petal_Width','Species']\n",
        "# read in the dataset from the UCI Machine Learning Repository link and specify column names to use\n",
        "# save as iris_df\n",
        "iris =  pd.read_csv(csv_url, names = col_names)\n",
        "# The columns of the resulting DataFrame have different dtypes.\n",
        "iris.dtypes\n",
        "\n",
        "iris.head()\n",
        "# View the index of the DataFrame\n",
        "iris.index\n",
        "RangeIndex(start=0, stop=150, step=1)\n",
        "# View the columns of the DataFrame\n",
        "iris.columns\n",
        "Index(['Sepal_Length', 'Sepal_Width', 'Petal_Length', 'Petal_Width',\n",
        "       'Species'],\n",
        "      dtype='object')\n",
        "# sorting by an axis\n",
        "iris.sort_index(axis=1, ascending=False).head(10)\n",
        "# sorting by values\n",
        "iris.sort_values(by='Petal_Width').head(10)"
      ]
    },
    {
      "cell_type": "code",
      "source": [],
      "metadata": {
        "id": "OkxyEacoWdQ3"
      },
      "execution_count": null,
      "outputs": []
    }
  ]
}