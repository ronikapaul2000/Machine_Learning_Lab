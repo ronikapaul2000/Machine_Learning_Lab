{
  "nbformat": 4,
  "nbformat_minor": 0,
  "metadata": {
    "colab": {
      "provenance": [],
      "authorship_tag": "ABX9TyMyXRQcojTK9fLqYbXsnqB1",
      "include_colab_link": true
    },
    "kernelspec": {
      "name": "python3",
      "display_name": "Python 3"
    },
    "language_info": {
      "name": "python"
    }
  },
  "cells": [
    {
      "cell_type": "markdown",
      "metadata": {
        "id": "view-in-github",
        "colab_type": "text"
      },
      "source": [
        "<a href=\"https://colab.research.google.com/github/ronikapaul2000/Machine_Learning_Lab/blob/main/29_8_2022_part_1.ipynb\" target=\"_parent\"><img src=\"https://colab.research.google.com/assets/colab-badge.svg\" alt=\"Open In Colab\"/></a>"
      ]
    },
    {
      "cell_type": "code",
      "execution_count": null,
      "metadata": {
        "colab": {
          "base_uri": "https://localhost:8080/"
        },
        "id": "mqtMGElEqZN0",
        "outputId": "fd67562d-5a50-476a-d576-992c06964271"
      },
      "outputs": [
        {
          "output_type": "stream",
          "name": "stdout",
          "text": [
            "     Name   SirName\n",
            "0  Sachin  Bhardwaj\n",
            "1   Vinod     Verma\n",
            "\n",
            "\n",
            "Column Name is :: Name\n",
            "Column Values are :: \n",
            "0    Sachin\n",
            "1     Vinod\n",
            "Name: Name, dtype: object\n",
            "\n",
            "\n",
            "Column Name is :: SirName\n",
            "Column Values are :: \n",
            "0    Bhardwaj\n",
            "1       Verma\n",
            "Name: SirName, dtype: object\n"
          ]
        }
      ],
      "source": [
        "import pandas as pd\n",
        "l = [{'Name': 'Sachin', 'SirName': 'Bhardwaj'},\n",
        "     {'Name': 'Vinod', 'SirName': 'Verma'}]\n",
        "dfl=pd.DataFrame(l)\n",
        "print(dfl)\n",
        "for (col_name,col_value) in dfl.iteritems():\n",
        "    print('\\n')\n",
        "    print('Column Name is ::' , col_name)\n",
        "    print('Column Values are :: ' )\n",
        "    print(col_value)\n"
      ]
    },
    {
      "cell_type": "code",
      "source": [
        "import pandas as pd\n",
        "empdata={ 'empid':[101,102,103,104,105,106],\n",
        "           'ename':['Sachin', 'Vinod', 'Lakhbir', 'Anil', 'Devinder', 'UmaSelvi'],\n",
        "            'Doj':['12-01-2012','15-01-2012', '05-09-2007', '17-01- 2012', '05-09-2007', '16-01-2012']}\n",
        "df=pd.DataFrame(empdata)\n",
        "print(df)\n"
      ],
      "metadata": {
        "colab": {
          "base_uri": "https://localhost:8080/"
        },
        "id": "iEHdfS4aroW7",
        "outputId": "56b20efd-2046-462a-d7d8-36495ab34c8e"
      },
      "execution_count": null,
      "outputs": [
        {
          "output_type": "stream",
          "name": "stdout",
          "text": [
            "   empid     ename          Doj\n",
            "0    101    Sachin   12-01-2012\n",
            "1    102     Vinod   15-01-2012\n",
            "2    103   Lakhbir   05-09-2007\n",
            "3    104      Anil  17-01- 2012\n",
            "4    105  Devinder   05-09-2007\n",
            "5    106  UmaSelvi   16-01-2012\n"
          ]
        }
      ]
    },
    {
      "cell_type": "code",
      "source": [
        "df.empid "
      ],
      "metadata": {
        "colab": {
          "base_uri": "https://localhost:8080/"
        },
        "id": "W99iGxoss4lj",
        "outputId": "04611b6b-9054-423a-d950-8adfcbf7acfe"
      },
      "execution_count": null,
      "outputs": [
        {
          "output_type": "execute_result",
          "data": {
            "text/plain": [
              "0    101\n",
              "1    102\n",
              "2    103\n",
              "3    104\n",
              "4    105\n",
              "5    106\n",
              "Name: empid, dtype: int64"
            ]
          },
          "metadata": {},
          "execution_count": 6
        }
      ]
    },
    {
      "cell_type": "code",
      "source": [
        "df['empid']"
      ],
      "metadata": {
        "colab": {
          "base_uri": "https://localhost:8080/"
        },
        "id": "6cxOzgAQtAVS",
        "outputId": "f572a434-a421-4799-f6c1-7ccdd9222739"
      },
      "execution_count": null,
      "outputs": [
        {
          "output_type": "execute_result",
          "data": {
            "text/plain": [
              "0    101\n",
              "1    102\n",
              "2    103\n",
              "3    104\n",
              "4    105\n",
              "5    106\n",
              "Name: empid, dtype: int64"
            ]
          },
          "metadata": {},
          "execution_count": 7
        }
      ]
    },
    {
      "cell_type": "code",
      "source": [
        "df[['empid','ename']]"
      ],
      "metadata": {
        "colab": {
          "base_uri": "https://localhost:8080/",
          "height": 238
        },
        "id": "Mfgrv6Q1tDRL",
        "outputId": "ffd5f665-6c26-43b5-ba03-3741996fe140"
      },
      "execution_count": null,
      "outputs": [
        {
          "output_type": "execute_result",
          "data": {
            "text/plain": [
              "   empid     ename\n",
              "0    101    Sachin\n",
              "1    102     Vinod\n",
              "2    103   Lakhbir\n",
              "3    104      Anil\n",
              "4    105  Devinder\n",
              "5    106  UmaSelvi"
            ],
            "text/html": [
              "\n",
              "  <div id=\"df-568b5932-83d3-4651-a1e1-962be1cdedb1\">\n",
              "    <div class=\"colab-df-container\">\n",
              "      <div>\n",
              "<style scoped>\n",
              "    .dataframe tbody tr th:only-of-type {\n",
              "        vertical-align: middle;\n",
              "    }\n",
              "\n",
              "    .dataframe tbody tr th {\n",
              "        vertical-align: top;\n",
              "    }\n",
              "\n",
              "    .dataframe thead th {\n",
              "        text-align: right;\n",
              "    }\n",
              "</style>\n",
              "<table border=\"1\" class=\"dataframe\">\n",
              "  <thead>\n",
              "    <tr style=\"text-align: right;\">\n",
              "      <th></th>\n",
              "      <th>empid</th>\n",
              "      <th>ename</th>\n",
              "    </tr>\n",
              "  </thead>\n",
              "  <tbody>\n",
              "    <tr>\n",
              "      <th>0</th>\n",
              "      <td>101</td>\n",
              "      <td>Sachin</td>\n",
              "    </tr>\n",
              "    <tr>\n",
              "      <th>1</th>\n",
              "      <td>102</td>\n",
              "      <td>Vinod</td>\n",
              "    </tr>\n",
              "    <tr>\n",
              "      <th>2</th>\n",
              "      <td>103</td>\n",
              "      <td>Lakhbir</td>\n",
              "    </tr>\n",
              "    <tr>\n",
              "      <th>3</th>\n",
              "      <td>104</td>\n",
              "      <td>Anil</td>\n",
              "    </tr>\n",
              "    <tr>\n",
              "      <th>4</th>\n",
              "      <td>105</td>\n",
              "      <td>Devinder</td>\n",
              "    </tr>\n",
              "    <tr>\n",
              "      <th>5</th>\n",
              "      <td>106</td>\n",
              "      <td>UmaSelvi</td>\n",
              "    </tr>\n",
              "  </tbody>\n",
              "</table>\n",
              "</div>\n",
              "      <button class=\"colab-df-convert\" onclick=\"convertToInteractive('df-568b5932-83d3-4651-a1e1-962be1cdedb1')\"\n",
              "              title=\"Convert this dataframe to an interactive table.\"\n",
              "              style=\"display:none;\">\n",
              "        \n",
              "  <svg xmlns=\"http://www.w3.org/2000/svg\" height=\"24px\"viewBox=\"0 0 24 24\"\n",
              "       width=\"24px\">\n",
              "    <path d=\"M0 0h24v24H0V0z\" fill=\"none\"/>\n",
              "    <path d=\"M18.56 5.44l.94 2.06.94-2.06 2.06-.94-2.06-.94-.94-2.06-.94 2.06-2.06.94zm-11 1L8.5 8.5l.94-2.06 2.06-.94-2.06-.94L8.5 2.5l-.94 2.06-2.06.94zm10 10l.94 2.06.94-2.06 2.06-.94-2.06-.94-.94-2.06-.94 2.06-2.06.94z\"/><path d=\"M17.41 7.96l-1.37-1.37c-.4-.4-.92-.59-1.43-.59-.52 0-1.04.2-1.43.59L10.3 9.45l-7.72 7.72c-.78.78-.78 2.05 0 2.83L4 21.41c.39.39.9.59 1.41.59.51 0 1.02-.2 1.41-.59l7.78-7.78 2.81-2.81c.8-.78.8-2.07 0-2.86zM5.41 20L4 18.59l7.72-7.72 1.47 1.35L5.41 20z\"/>\n",
              "  </svg>\n",
              "      </button>\n",
              "      \n",
              "  <style>\n",
              "    .colab-df-container {\n",
              "      display:flex;\n",
              "      flex-wrap:wrap;\n",
              "      gap: 12px;\n",
              "    }\n",
              "\n",
              "    .colab-df-convert {\n",
              "      background-color: #E8F0FE;\n",
              "      border: none;\n",
              "      border-radius: 50%;\n",
              "      cursor: pointer;\n",
              "      display: none;\n",
              "      fill: #1967D2;\n",
              "      height: 32px;\n",
              "      padding: 0 0 0 0;\n",
              "      width: 32px;\n",
              "    }\n",
              "\n",
              "    .colab-df-convert:hover {\n",
              "      background-color: #E2EBFA;\n",
              "      box-shadow: 0px 1px 2px rgba(60, 64, 67, 0.3), 0px 1px 3px 1px rgba(60, 64, 67, 0.15);\n",
              "      fill: #174EA6;\n",
              "    }\n",
              "\n",
              "    [theme=dark] .colab-df-convert {\n",
              "      background-color: #3B4455;\n",
              "      fill: #D2E3FC;\n",
              "    }\n",
              "\n",
              "    [theme=dark] .colab-df-convert:hover {\n",
              "      background-color: #434B5C;\n",
              "      box-shadow: 0px 1px 3px 1px rgba(0, 0, 0, 0.15);\n",
              "      filter: drop-shadow(0px 1px 2px rgba(0, 0, 0, 0.3));\n",
              "      fill: #FFFFFF;\n",
              "    }\n",
              "  </style>\n",
              "\n",
              "      <script>\n",
              "        const buttonEl =\n",
              "          document.querySelector('#df-568b5932-83d3-4651-a1e1-962be1cdedb1 button.colab-df-convert');\n",
              "        buttonEl.style.display =\n",
              "          google.colab.kernel.accessAllowed ? 'block' : 'none';\n",
              "\n",
              "        async function convertToInteractive(key) {\n",
              "          const element = document.querySelector('#df-568b5932-83d3-4651-a1e1-962be1cdedb1');\n",
              "          const dataTable =\n",
              "            await google.colab.kernel.invokeFunction('convertToInteractive',\n",
              "                                                     [key], {});\n",
              "          if (!dataTable) return;\n",
              "\n",
              "          const docLinkHtml = 'Like what you see? Visit the ' +\n",
              "            '<a target=\"_blank\" href=https://colab.research.google.com/notebooks/data_table.ipynb>data table notebook</a>'\n",
              "            + ' to learn more about interactive tables.';\n",
              "          element.innerHTML = '';\n",
              "          dataTable['output_type'] = 'display_data';\n",
              "          await google.colab.output.renderOutput(dataTable, element);\n",
              "          const docLink = document.createElement('div');\n",
              "          docLink.innerHTML = docLinkHtml;\n",
              "          element.appendChild(docLink);\n",
              "        }\n",
              "      </script>\n",
              "    </div>\n",
              "  </div>\n",
              "  "
            ]
          },
          "metadata": {},
          "execution_count": 8
        }
      ]
    },
    {
      "cell_type": "code",
      "source": [
        "import pandas as pd\n",
        "s = pd.Series([10,15,18,22])\n",
        "df=pd.DataFrame(s)\n",
        "df.columns=['List1']                                            \n",
        "df['List2']=20   \n",
        "df['List3']=df['List1'] + df['List2']  \n",
        "df['List4']=df['List3'] + df['List2']\n",
        "df['List5']=df['List4'] + df['List3']               \n",
        "print(df)\n"
      ],
      "metadata": {
        "colab": {
          "base_uri": "https://localhost:8080/"
        },
        "id": "yQF7PnrttKVz",
        "outputId": "300d5c65-12d9-4d91-f96b-8792b299dac4"
      },
      "execution_count": null,
      "outputs": [
        {
          "output_type": "stream",
          "name": "stdout",
          "text": [
            "   List1  List2  List3  List4  List5\n",
            "0     10     20     30     50     80\n",
            "1     15     20     35     55     90\n",
            "2     18     20     38     58     96\n",
            "3     22     20     42     62    104\n"
          ]
        }
      ]
    },
    {
      "cell_type": "code",
      "source": [
        "df.pop('List4')"
      ],
      "metadata": {
        "colab": {
          "base_uri": "https://localhost:8080/"
        },
        "id": "GivlTAdMt1iM",
        "outputId": "e070fde7-17b2-4dc3-d160-6338154cfb89"
      },
      "execution_count": null,
      "outputs": [
        {
          "output_type": "execute_result",
          "data": {
            "text/plain": [
              "0    50\n",
              "1    55\n",
              "2    58\n",
              "3    62\n",
              "Name: List4, dtype: int64"
            ]
          },
          "metadata": {},
          "execution_count": 17
        }
      ]
    },
    {
      "cell_type": "code",
      "source": [
        "import pandas as pd\n",
        "s= pd.Series([10,20,30,40])\n",
        "df=pd.DataFrame(s)\n",
        "df.columns=['List1']\n",
        "df['List2']=40\n",
        "df1=df.drop('List2',axis=1)\n",
        "df2=df.drop(index=[2,3],axis=0)\n",
        "print(df)\n",
        "print(\" After deletion::\")\n",
        "print(df1)\n",
        "print (\" After row deletion::\")\n",
        "print(df2)\n"
      ],
      "metadata": {
        "colab": {
          "base_uri": "https://localhost:8080/"
        },
        "id": "Q8WpSdawvU6b",
        "outputId": "767e6e88-f598-4400-ca32-ef3f272282dd"
      },
      "execution_count": null,
      "outputs": [
        {
          "output_type": "stream",
          "name": "stdout",
          "text": [
            "   List1  List2\n",
            "0     10     40\n",
            "1     20     40\n",
            "2     30     40\n",
            "3     40     40\n",
            " After deletion::\n",
            "   List1\n",
            "0     10\n",
            "1     20\n",
            "2     30\n",
            "3     40\n",
            " After row deletion::\n",
            "   List1  List2\n",
            "0     10     40\n",
            "1     20     40\n"
          ]
        }
      ]
    },
    {
      "cell_type": "code",
      "source": [
        "import pandas as pd\n",
        "Runs={ 'TCS': { 'Qtr1':2500, 'Qtr2' : 2000, 'Qtr3':3000, 'Qtr4' : 2000},\n",
        "         'WIPRO': {'Qtr1':2800, 'Qtr2' :2400, 'Qtr3':3600, 'Qtr4':2400},\n",
        "         'L&T': {'Qtr1' :2100, 'Qtr2':5700, 'Qtr3' :35000, 'Qtr4':2100}}\n",
        "df=pd.DataFrame(Runs)\n",
        "print(df)\n",
        "                               \n",
        "print(df.loc['Qtr3' , : ])\n",
        "print(df.loc['Qtr1':'Qtr3' : ])\n",
        "   \n"
      ],
      "metadata": {
        "colab": {
          "base_uri": "https://localhost:8080/"
        },
        "id": "t_bmUJZHvHNc",
        "outputId": "35a98a66-1aa2-416c-ccd5-e3a30e8605df"
      },
      "execution_count": null,
      "outputs": [
        {
          "output_type": "stream",
          "name": "stdout",
          "text": [
            "       TCS  WIPRO    L&T\n",
            "Qtr1  2500   2800   2100\n",
            "Qtr2  2000   2400   5700\n",
            "Qtr3  3000   3600  35000\n",
            "Qtr4  2000   2400   2100\n",
            "TCS       3000\n",
            "WIPRO     3600\n",
            "L&T      35000\n",
            "Name: Qtr3, dtype: int64\n",
            "       TCS  WIPRO    L&T\n",
            "Qtr1  2500   2800   2100\n",
            "Qtr2  2000   2400   5700\n",
            "Qtr3  3000   3600  35000\n"
          ]
        }
      ]
    },
    {
      "cell_type": "code",
      "source": [
        "import pandas as pd\n",
        "Runs={ 'TCS': { 'Qtr1':2500, 'Qtr2' :2000, 'Qtr3':3000, 'Qtr4':2000},\n",
        "         'WIPRO': {'Qtr1':2800, \"Qtr2\" :2400, 'Qtr3' :3600, 'Qtr4' :2400},\n",
        "         'L&T': { 'Qtr1':2100, 'Qtr2':5700, 'Qtr3':35000, 'Qtr4' :2100}}\n",
        "df=pd.DataFrame(Runs)                                 \n",
        "print(df)\n",
        "print(df.loc[ :,'TCS' ])\n",
        "print(df.loc[ :, 'TCS': 'WIPRO'])\n"
      ],
      "metadata": {
        "colab": {
          "base_uri": "https://localhost:8080/"
        },
        "id": "O-nY40WyxSXE",
        "outputId": "4a3379fe-afeb-42b8-8c37-282ce98b177e"
      },
      "execution_count": null,
      "outputs": [
        {
          "output_type": "stream",
          "name": "stdout",
          "text": [
            "       TCS  WIPRO    L&T\n",
            "Qtr1  2500   2800   2100\n",
            "Qtr2  2000   2400   5700\n",
            "Qtr3  3000   3600  35000\n",
            "Qtr4  2000   2400   2100\n",
            "Qtr1    2500\n",
            "Qtr2    2000\n",
            "Qtr3    3000\n",
            "Qtr4    2000\n",
            "Name: TCS, dtype: int64\n",
            "       TCS  WIPRO\n",
            "Qtr1  2500   2800\n",
            "Qtr2  2000   2400\n",
            "Qtr3  3000   3600\n",
            "Qtr4  2000   2400\n"
          ]
        }
      ]
    },
    {
      "cell_type": "code",
      "source": [
        "import pandas as pd\n",
        "empdata= { 'empid':[101,102,103,104,105,106],\n",
        "           'ename':['Sachin', 'Vinod', 'Lakhbir', 'Anil', 'Devinder', 'UmaSelvi'],\n",
        "          'Doj':['12-01-2012', '15-01-2012', '05-09-2007', '17-01- 2012', '05-09-2007','16-01-2012']}\n",
        "df=pd.DataFrame(empdata)\n",
        "                               \n",
        "print(df)\n",
        "print(df.loc[0])\n",
        "df.loc[0:2]\n",
        "                                      \n",
        "                                        \n",
        "                                                                  \n",
        "                                                                  \n"
      ],
      "metadata": {
        "colab": {
          "base_uri": "https://localhost:8080/",
          "height": 334
        },
        "id": "u9woaTZwx7f0",
        "outputId": "d13c1e5a-bd9b-41ab-c071-65bf9ea6af81"
      },
      "execution_count": null,
      "outputs": [
        {
          "output_type": "stream",
          "name": "stdout",
          "text": [
            "   empid     ename          Doj\n",
            "0    101    Sachin   12-01-2012\n",
            "1    102     Vinod   15-01-2012\n",
            "2    103   Lakhbir   05-09-2007\n",
            "3    104      Anil  17-01- 2012\n",
            "4    105  Devinder   05-09-2007\n",
            "5    106  UmaSelvi   16-01-2012\n",
            "empid           101\n",
            "ename        Sachin\n",
            "Doj      12-01-2012\n",
            "Name: 0, dtype: object\n"
          ]
        },
        {
          "output_type": "execute_result",
          "data": {
            "text/plain": [
              "   empid    ename         Doj\n",
              "0    101   Sachin  12-01-2012\n",
              "1    102    Vinod  15-01-2012\n",
              "2    103  Lakhbir  05-09-2007"
            ],
            "text/html": [
              "\n",
              "  <div id=\"df-8f0e4b51-0c13-46ce-b0f4-0fcec0933249\">\n",
              "    <div class=\"colab-df-container\">\n",
              "      <div>\n",
              "<style scoped>\n",
              "    .dataframe tbody tr th:only-of-type {\n",
              "        vertical-align: middle;\n",
              "    }\n",
              "\n",
              "    .dataframe tbody tr th {\n",
              "        vertical-align: top;\n",
              "    }\n",
              "\n",
              "    .dataframe thead th {\n",
              "        text-align: right;\n",
              "    }\n",
              "</style>\n",
              "<table border=\"1\" class=\"dataframe\">\n",
              "  <thead>\n",
              "    <tr style=\"text-align: right;\">\n",
              "      <th></th>\n",
              "      <th>empid</th>\n",
              "      <th>ename</th>\n",
              "      <th>Doj</th>\n",
              "    </tr>\n",
              "  </thead>\n",
              "  <tbody>\n",
              "    <tr>\n",
              "      <th>0</th>\n",
              "      <td>101</td>\n",
              "      <td>Sachin</td>\n",
              "      <td>12-01-2012</td>\n",
              "    </tr>\n",
              "    <tr>\n",
              "      <th>1</th>\n",
              "      <td>102</td>\n",
              "      <td>Vinod</td>\n",
              "      <td>15-01-2012</td>\n",
              "    </tr>\n",
              "    <tr>\n",
              "      <th>2</th>\n",
              "      <td>103</td>\n",
              "      <td>Lakhbir</td>\n",
              "      <td>05-09-2007</td>\n",
              "    </tr>\n",
              "  </tbody>\n",
              "</table>\n",
              "</div>\n",
              "      <button class=\"colab-df-convert\" onclick=\"convertToInteractive('df-8f0e4b51-0c13-46ce-b0f4-0fcec0933249')\"\n",
              "              title=\"Convert this dataframe to an interactive table.\"\n",
              "              style=\"display:none;\">\n",
              "        \n",
              "  <svg xmlns=\"http://www.w3.org/2000/svg\" height=\"24px\"viewBox=\"0 0 24 24\"\n",
              "       width=\"24px\">\n",
              "    <path d=\"M0 0h24v24H0V0z\" fill=\"none\"/>\n",
              "    <path d=\"M18.56 5.44l.94 2.06.94-2.06 2.06-.94-2.06-.94-.94-2.06-.94 2.06-2.06.94zm-11 1L8.5 8.5l.94-2.06 2.06-.94-2.06-.94L8.5 2.5l-.94 2.06-2.06.94zm10 10l.94 2.06.94-2.06 2.06-.94-2.06-.94-.94-2.06-.94 2.06-2.06.94z\"/><path d=\"M17.41 7.96l-1.37-1.37c-.4-.4-.92-.59-1.43-.59-.52 0-1.04.2-1.43.59L10.3 9.45l-7.72 7.72c-.78.78-.78 2.05 0 2.83L4 21.41c.39.39.9.59 1.41.59.51 0 1.02-.2 1.41-.59l7.78-7.78 2.81-2.81c.8-.78.8-2.07 0-2.86zM5.41 20L4 18.59l7.72-7.72 1.47 1.35L5.41 20z\"/>\n",
              "  </svg>\n",
              "      </button>\n",
              "      \n",
              "  <style>\n",
              "    .colab-df-container {\n",
              "      display:flex;\n",
              "      flex-wrap:wrap;\n",
              "      gap: 12px;\n",
              "    }\n",
              "\n",
              "    .colab-df-convert {\n",
              "      background-color: #E8F0FE;\n",
              "      border: none;\n",
              "      border-radius: 50%;\n",
              "      cursor: pointer;\n",
              "      display: none;\n",
              "      fill: #1967D2;\n",
              "      height: 32px;\n",
              "      padding: 0 0 0 0;\n",
              "      width: 32px;\n",
              "    }\n",
              "\n",
              "    .colab-df-convert:hover {\n",
              "      background-color: #E2EBFA;\n",
              "      box-shadow: 0px 1px 2px rgba(60, 64, 67, 0.3), 0px 1px 3px 1px rgba(60, 64, 67, 0.15);\n",
              "      fill: #174EA6;\n",
              "    }\n",
              "\n",
              "    [theme=dark] .colab-df-convert {\n",
              "      background-color: #3B4455;\n",
              "      fill: #D2E3FC;\n",
              "    }\n",
              "\n",
              "    [theme=dark] .colab-df-convert:hover {\n",
              "      background-color: #434B5C;\n",
              "      box-shadow: 0px 1px 3px 1px rgba(0, 0, 0, 0.15);\n",
              "      filter: drop-shadow(0px 1px 2px rgba(0, 0, 0, 0.3));\n",
              "      fill: #FFFFFF;\n",
              "    }\n",
              "  </style>\n",
              "\n",
              "      <script>\n",
              "        const buttonEl =\n",
              "          document.querySelector('#df-8f0e4b51-0c13-46ce-b0f4-0fcec0933249 button.colab-df-convert');\n",
              "        buttonEl.style.display =\n",
              "          google.colab.kernel.accessAllowed ? 'block' : 'none';\n",
              "\n",
              "        async function convertToInteractive(key) {\n",
              "          const element = document.querySelector('#df-8f0e4b51-0c13-46ce-b0f4-0fcec0933249');\n",
              "          const dataTable =\n",
              "            await google.colab.kernel.invokeFunction('convertToInteractive',\n",
              "                                                     [key], {});\n",
              "          if (!dataTable) return;\n",
              "\n",
              "          const docLinkHtml = 'Like what you see? Visit the ' +\n",
              "            '<a target=\"_blank\" href=https://colab.research.google.com/notebooks/data_table.ipynb>data table notebook</a>'\n",
              "            + ' to learn more about interactive tables.';\n",
              "          element.innerHTML = '';\n",
              "          dataTable['output_type'] = 'display_data';\n",
              "          await google.colab.output.renderOutput(dataTable, element);\n",
              "          const docLink = document.createElement('div');\n",
              "          docLink.innerHTML = docLinkHtml;\n",
              "          element.appendChild(docLink);\n",
              "        }\n",
              "      </script>\n",
              "    </div>\n",
              "  </div>\n",
              "  "
            ]
          },
          "metadata": {},
          "execution_count": 21
        }
      ]
    },
    {
      "cell_type": "code",
      "source": [
        "import pandas as pd\n",
        "Runs={ 'TCS': { 'Qtr1':2500, 'Qtr2' : 2000, 'Qtr3':3000, 'Qtr4':2000},\n",
        "         'WIPRO': {'Qtr1':2800, 'Qtr2':2400, 'Qtr3':3600, 'Qtr4' :2400},\n",
        "         'L&T': {'Qtr1':2100, 'Qtr2' :5700, 'Qtr3' :35000, 'Qtr4' :2100}}\n",
        "df=pd.DataFrame(Runs)\n",
        "print(df)\n",
        "print(df.iloc[0 :2 ,1:2 ])\n",
        "                                  \n",
        "print(df.iloc[:, 0:2])\n",
        "                                  \n"
      ],
      "metadata": {
        "colab": {
          "base_uri": "https://localhost:8080/"
        },
        "id": "1DkcWMeJzLyk",
        "outputId": "92be1795-e0f0-4029-98a4-1f2879ade98b"
      },
      "execution_count": null,
      "outputs": [
        {
          "output_type": "stream",
          "name": "stdout",
          "text": [
            "       TCS  WIPRO    L&T\n",
            "Qtr1  2500   2800   2100\n",
            "Qtr2  2000   2400   5700\n",
            "Qtr3  3000   3600  35000\n",
            "Qtr4  2000   2400   2100\n",
            "      WIPRO\n",
            "Qtr1   2800\n",
            "Qtr2   2400\n",
            "       TCS  WIPRO\n",
            "Qtr1  2500   2800\n",
            "Qtr2  2000   2400\n",
            "Qtr3  3000   3600\n",
            "Qtr4  2000   2400\n"
          ]
        }
      ]
    },
    {
      "cell_type": "code",
      "source": [
        "import pandas as pd\n",
        "empdata={'Doj':['12-01-2012','15-01-2012', '05-09-2007',\n",
        "                '17-01-2012', '05-09-2007', '16-01-2012'],\n",
        "            'empid':[101,102,103,104,105,106],\n",
        "            'ename' :['Sachin','Vinod', 'Lakhbir', 'Anil', 'Devinder', 'UmaSelvi']\n",
        "          }\n",
        "df=pd.DataFrame(empdata)\n",
        "print(df)\n",
        "print(df.head())\n",
        "print(df.tail())\n"
      ],
      "metadata": {
        "colab": {
          "base_uri": "https://localhost:8080/"
        },
        "id": "erXSKpNr0Das",
        "outputId": "88c79289-f880-4cf1-b417-df05bae9e60a"
      },
      "execution_count": null,
      "outputs": [
        {
          "output_type": "stream",
          "name": "stdout",
          "text": [
            "          Doj  empid     ename\n",
            "0  12-01-2012    101    Sachin\n",
            "1  15-01-2012    102     Vinod\n",
            "2  05-09-2007    103   Lakhbir\n",
            "3  17-01-2012    104      Anil\n",
            "4  05-09-2007    105  Devinder\n",
            "5  16-01-2012    106  UmaSelvi\n",
            "          Doj  empid     ename\n",
            "0  12-01-2012    101    Sachin\n",
            "1  15-01-2012    102     Vinod\n",
            "2  05-09-2007    103   Lakhbir\n",
            "3  17-01-2012    104      Anil\n",
            "4  05-09-2007    105  Devinder\n",
            "          Doj  empid     ename\n",
            "1  15-01-2012    102     Vinod\n",
            "2  05-09-2007    103   Lakhbir\n",
            "3  17-01-2012    104      Anil\n",
            "4  05-09-2007    105  Devinder\n",
            "5  16-01-2012    106  UmaSelvi\n"
          ]
        }
      ]
    },
    {
      "cell_type": "code",
      "source": [
        "import pandas as pd\n",
        "empdata = { 'Doj':['12-01-2012','15-01-2012','05-09-2007','17-01-2012', '05-09-2007', '16-01-2012'],\n",
        "          'empid':[101,102,103,104,105,106],\n",
        "          'ename':['Sachin', 'Vinod', 'Lakhbir','Anil', 'Devinder', 'UmaSelvi']\n",
        "         }\n",
        "df=pd.DataFrame(empdata)\n",
        "print(df)\n",
        "print(df.head(2))\n",
        "print(df.tail(2))\n",
        "print(df[2:5])\n",
        "\n"
      ],
      "metadata": {
        "colab": {
          "base_uri": "https://localhost:8080/"
        },
        "id": "nDyJrzk31ZUF",
        "outputId": "770c8f8a-84d6-4cd0-8606-680c3e934bd6"
      },
      "execution_count": null,
      "outputs": [
        {
          "output_type": "stream",
          "name": "stdout",
          "text": [
            "          Doj  empid     ename\n",
            "0  12-01-2012    101    Sachin\n",
            "1  15-01-2012    102     Vinod\n",
            "2  05-09-2007    103   Lakhbir\n",
            "3  17-01-2012    104      Anil\n",
            "4  05-09-2007    105  Devinder\n",
            "5  16-01-2012    106  UmaSelvi\n",
            "          Doj  empid   ename\n",
            "0  12-01-2012    101  Sachin\n",
            "1  15-01-2012    102   Vinod\n",
            "          Doj  empid     ename\n",
            "4  05-09-2007    105  Devinder\n",
            "5  16-01-2012    106  UmaSelvi\n",
            "          Doj  empid     ename\n",
            "2  05-09-2007    103   Lakhbir\n",
            "3  17-01-2012    104      Anil\n",
            "4  05-09-2007    105  Devinder\n"
          ]
        }
      ]
    },
    {
      "cell_type": "code",
      "source": [
        "import pandas as pd\n",
        "dic={\n",
        "        'Name': ['Sachin Bhardwaj', 'Vinod Verma', 'Rajesh Mishra'],\n",
        "        'Age': [32, 35, 40]\n",
        "    }\n",
        "df=pd.DataFrame(dic, index = [True, False, True])\n",
        "print(df)\n",
        "print(df.loc[True])                                  \n",
        "print()\n",
        "print('Result of iloc method')\n",
        "print(df.iloc[1])\n"
      ],
      "metadata": {
        "colab": {
          "base_uri": "https://localhost:8080/"
        },
        "id": "lxIUitkj6cgW",
        "outputId": "cdadfd6d-4a3a-4b53-9319-461f6a217ca7"
      },
      "execution_count": null,
      "outputs": [
        {
          "output_type": "stream",
          "name": "stdout",
          "text": [
            "                  Name  Age\n",
            "True   Sachin Bhardwaj   32\n",
            "False      Vinod Verma   35\n",
            "True     Rajesh Mishra   40\n",
            "                 Name  Age\n",
            "True  Sachin Bhardwaj   32\n",
            "True    Rajesh Mishra   40\n",
            "\n",
            "Result of iloc method\n",
            "Name    Vinod Verma\n",
            "Age              35\n",
            "dtype: object\n"
          ]
        }
      ]
    },
    {
      "cell_type": "code",
      "source": [
        "import pandas as pd\n",
        "dic1= { 'id': ['1', '2', '3', '4', '5'], 'Value1': ['A', 'C', 'E', 'G', 'I'],\n",
        "         'Value2': ['B', 'D', 'F', 'H', 'J']}\n",
        "dic2= {'id': ['2', '3', '6', '7', '8'], 'Valuel': ['K', 'M', 'O', 'Q', 'S'],\n",
        "         'Value2': ['L', 'N', 'P', 'R', 'T']}\n",
        "df1=pd.DataFrame(dic1)\n",
        "df2=pd.DataFrame(dic2)\n",
        "df3=pd.concat([df1,df2])\n",
        "print(df3)\n"
      ],
      "metadata": {
        "colab": {
          "base_uri": "https://localhost:8080/"
        },
        "id": "wbdQ_b9c7vAU",
        "outputId": "27a07bcf-9f64-4994-fab2-f6f137dcbb9c"
      },
      "execution_count": null,
      "outputs": [
        {
          "output_type": "stream",
          "name": "stdout",
          "text": [
            "  id Value1 Value2 Valuel\n",
            "0  1      A      B    NaN\n",
            "1  2      C      D    NaN\n",
            "2  3      E      F    NaN\n",
            "3  4      G      H    NaN\n",
            "4  5      I      J    NaN\n",
            "0  2    NaN      L      K\n",
            "1  3    NaN      N      M\n",
            "2  6    NaN      P      O\n",
            "3  7    NaN      R      Q\n",
            "4  8    NaN      T      S\n"
          ]
        }
      ]
    },
    {
      "cell_type": "code",
      "source": [
        "import pandas as pd\n",
        "dic1= { 'id': ['1', '2', '3', '4', '5'], 'Valuel': ['A', 'C', 'E', '6', 'I'],\n",
        "         'Value2': ['B', 'D', 'F', 'H', 'J']}\n",
        "dic2= {'id': ['2', '3', '6', '7', '8'], 'Valuel': ['K', 'M', 'O','Q','S'],\n",
        "         'Value2': ['L', 'N', 'P', 'R', 'T']}\n",
        "df1=pd.DataFrame(dic1)\n",
        "df2=pd.DataFrame(dic2)\n",
        "df3=pd.concat([df1,df2],ignore_index=True)\n",
        "print(df3)\n"
      ],
      "metadata": {
        "colab": {
          "base_uri": "https://localhost:8080/"
        },
        "id": "N0H4i_FL8wcV",
        "outputId": "8d337e92-3919-4c46-b5a5-cdaedb4ed2c7"
      },
      "execution_count": null,
      "outputs": [
        {
          "output_type": "stream",
          "name": "stdout",
          "text": [
            "  id Valuel Value2\n",
            "0  1      A      B\n",
            "1  2      C      D\n",
            "2  3      E      F\n",
            "3  4      6      H\n",
            "4  5      I      J\n",
            "5  2      K      L\n",
            "6  3      M      N\n",
            "7  6      O      P\n",
            "8  7      Q      R\n",
            "9  8      S      T\n"
          ]
        }
      ]
    },
    {
      "cell_type": "code",
      "source": [
        "import pandas as pd\n",
        "dic1= { 'id': ['1', '2', '3', '4', '5'], 'Value1': ['A', 'C', 'E', 'G','I'],\n",
        "         'Value2': ['B', 'D', 'F', 'H','J']}\n",
        "dic2= {'id': ['2', '3', '6', '7', '8'], 'Valuel': ['K', 'M', 'O', 'Q', 'S'],\n",
        "         'Value2': ['L', 'N', 'P', 'R', 'T']}\n",
        "df1=pd.DataFrame(dic1)\n",
        "df2=pd.DataFrame(dic2)\n",
        "merge={ 'Data1':df1,'Data2':df2}\n",
        "df3=pd.concat(merge)\n",
        "print(df3)\n"
      ],
      "metadata": {
        "colab": {
          "base_uri": "https://localhost:8080/"
        },
        "id": "-z5xwnC59c-e",
        "outputId": "eeb836b3-7c88-4b08-c0cb-25ca300d4f1a"
      },
      "execution_count": null,
      "outputs": [
        {
          "output_type": "stream",
          "name": "stdout",
          "text": [
            "        id Value1 Value2 Valuel\n",
            "Data1 0  1      A      B    NaN\n",
            "      1  2      C      D    NaN\n",
            "      2  3      E      F    NaN\n",
            "      3  4      G      H    NaN\n",
            "      4  5      I      J    NaN\n",
            "Data2 0  2    NaN      L      K\n",
            "      1  3    NaN      N      M\n",
            "      2  6    NaN      P      O\n",
            "      3  7    NaN      R      Q\n",
            "      4  8    NaN      T      S\n"
          ]
        }
      ]
    },
    {
      "cell_type": "code",
      "source": [
        "import pandas as pd\n",
        "dic1= { 'id': ['1', '2', '3', '4', '5'], 'Value1': ['A', 'C','E', 'G', 'I'],\n",
        "         'Value2': ['B', 'D', 'F', 'H', 'J']}\n",
        "dic2= {'id': ['2', '3', '6', '7', '8'], 'Value1': ['K', 'M', '0', 'l', 'S'],\n",
        "         'Value2': ['L', 'N', 'P', 'R', 'T']}\n",
        "df1=pd.DataFrame(dic1)\n",
        "df2=pd.DataFrame(dic2)\n",
        "print(df3)\n"
      ],
      "metadata": {
        "colab": {
          "base_uri": "https://localhost:8080/"
        },
        "id": "UXsGajwM-R8_",
        "outputId": "76bbc9d2-ae42-4519-a106-ccc5ab42e993"
      },
      "execution_count": null,
      "outputs": [
        {
          "output_type": "stream",
          "name": "stdout",
          "text": [
            "        id Value1 Value2 Valuel\n",
            "Data1 0  1      A      B    NaN\n",
            "      1  2      C      D    NaN\n",
            "      2  3      E      F    NaN\n",
            "      3  4      G      H    NaN\n",
            "      4  5      I      J    NaN\n",
            "Data2 0  2    NaN      L      K\n",
            "      1  3    NaN      N      M\n",
            "      2  6    NaN      P      O\n",
            "      3  7    NaN      R      Q\n",
            "      4  8    NaN      T      S\n"
          ]
        }
      ]
    },
    {
      "cell_type": "code",
      "source": [
        "import pandas as pd\n",
        "dic1= { 'id': ['1', '2', '3', '4', '5'], 'Value1': ['A', 'C', 'E', 'G', 'I'],\n",
        "         'Value2': ['B', 'D', 'F', 'H', 'J']}\n",
        "dic2= {'id': ['2', '3', '6', '7', '8'], 'Valuel': ['K', 'M', 'O', 'Q', 'S'],\n",
        "         'Value2': ['L', 'N', 'P', 'R', 'T']}\n",
        "dic3 = {'id': ['1', '2', '3', '4', '5', '7', '8', '9', '10', '11'],\n",
        "         'Value3': [12, 13, 14, 15, 16, 17, 15, 12, 13, 23]}\n",
        "df1=pd.DataFrame(dic1)\n",
        "df2=pd.DataFrame(dic2)\n",
        "df3=pd.concat((df1,df2))\n",
        "df4=pd.DataFrame(dic3)\n",
        "print(df5)\n"
      ],
      "metadata": {
        "id": "beaDqEpa-o8d",
        "colab": {
          "base_uri": "https://localhost:8080/",
          "height": 200
        },
        "outputId": "e5989399-07c3-4bf5-d323-26dc16d5c809"
      },
      "execution_count": null,
      "outputs": [
        {
          "output_type": "error",
          "ename": "NameError",
          "evalue": "ignored",
          "traceback": [
            "\u001b[0;31m---------------------------------------------------------------------------\u001b[0m",
            "\u001b[0;31mNameError\u001b[0m                                 Traceback (most recent call last)",
            "\u001b[0;32m<ipython-input-51-afe58ef7a24e>\u001b[0m in \u001b[0;36m<module>\u001b[0;34m\u001b[0m\n\u001b[1;32m     10\u001b[0m \u001b[0mdf3\u001b[0m\u001b[0;34m=\u001b[0m\u001b[0mpd\u001b[0m\u001b[0;34m.\u001b[0m\u001b[0mconcat\u001b[0m\u001b[0;34m(\u001b[0m\u001b[0;34m(\u001b[0m\u001b[0mdf1\u001b[0m\u001b[0;34m,\u001b[0m\u001b[0mdf2\u001b[0m\u001b[0;34m)\u001b[0m\u001b[0;34m)\u001b[0m\u001b[0;34m\u001b[0m\u001b[0;34m\u001b[0m\u001b[0m\n\u001b[1;32m     11\u001b[0m \u001b[0mdf4\u001b[0m\u001b[0;34m=\u001b[0m\u001b[0mpd\u001b[0m\u001b[0;34m.\u001b[0m\u001b[0mDataFrame\u001b[0m\u001b[0;34m(\u001b[0m\u001b[0mdic3\u001b[0m\u001b[0;34m)\u001b[0m\u001b[0;34m\u001b[0m\u001b[0;34m\u001b[0m\u001b[0m\n\u001b[0;32m---> 12\u001b[0;31m \u001b[0mprint\u001b[0m\u001b[0;34m(\u001b[0m\u001b[0mdf5\u001b[0m\u001b[0;34m)\u001b[0m\u001b[0;34m\u001b[0m\u001b[0;34m\u001b[0m\u001b[0m\n\u001b[0m",
            "\u001b[0;31mNameError\u001b[0m: name 'df5' is not defined"
          ]
        }
      ]
    },
    {
      "cell_type": "code",
      "source": [],
      "metadata": {
        "id": "C3VlAh6A-Hk9"
      },
      "execution_count": null,
      "outputs": []
    }
  ]
}