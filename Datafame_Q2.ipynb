{
  "nbformat": 4,
  "nbformat_minor": 0,
  "metadata": {
    "colab": {
      "provenance": [],
      "authorship_tag": "ABX9TyOkcBLULRP6lLXE1h1FMv7M",
      "include_colab_link": true
    },
    "kernelspec": {
      "name": "python3",
      "display_name": "Python 3"
    },
    "language_info": {
      "name": "python"
    }
  },
  "cells": [
    {
      "cell_type": "markdown",
      "metadata": {
        "id": "view-in-github",
        "colab_type": "text"
      },
      "source": [
        "<a href=\"https://colab.research.google.com/github/ronikapaul2000/Machine_Learning_Lab/blob/main/Datafame_Q2.ipynb\" target=\"_parent\"><img src=\"https://colab.research.google.com/assets/colab-badge.svg\" alt=\"Open In Colab\"/></a>"
      ]
    },
    {
      "cell_type": "code",
      "execution_count": 1,
      "metadata": {
        "colab": {
          "base_uri": "https://localhost:8080/"
        },
        "id": "hPd5w3g0Tgnp",
        "outputId": "bf165746-f745-41e2-cd89-9e8eb4888784"
      },
      "outputs": [
        {
          "output_type": "stream",
          "name": "stdout",
          "text": [
            "   0\n",
            "0  a\n",
            "1  b\n",
            "2  c\n",
            "3  d\n"
          ]
        }
      ],
      "source": [
        "#Create Dataframe From Series\n",
        "import pandas as pd\n",
        "s=pd.Series(['a','b','c','d'])\n",
        "df=pd.DataFrame(s)\n",
        "print(df)"
      ]
    },
    {
      "cell_type": "code",
      "source": [
        "#DataFrame from List of Dictionaries\n",
        "import pandas as pd\n",
        "l=[{\"Name\":'Sachin',\"SirName\":\"Bhardwaj\"},\n",
        "     {\"Name\":'Vinod','SirName':'Verma'},\n",
        "     {\"Name\":'Rajesh','SirName':'Mishra'}]\n",
        "dfl=pd.DataFrame(l)\n",
        "print(dfl)"
      ],
      "metadata": {
        "colab": {
          "base_uri": "https://localhost:8080/"
        },
        "id": "IdsjGPnDUL5d",
        "outputId": "cb5272ba-2f44-45f0-8aec-fd730d6a478a"
      },
      "execution_count": 2,
      "outputs": [
        {
          "output_type": "stream",
          "name": "stdout",
          "text": [
            "     Name   SirName\n",
            "0  Sachin  Bhardwaj\n",
            "1   Vinod     Verma\n",
            "2  Rajesh    Mishra\n"
          ]
        }
      ]
    },
    {
      "cell_type": "code",
      "source": [
        "#Display the first 5 rows of data frame\n",
        "import pandas as pd \n",
        "l=[{'Name':'Sachin',\"SirName\":'Bhardwaj'} ,\n",
        "    {'Name':\"Romit\",\"SirName\":\"Paul\"},\n",
        "    {'Name':'Jithin',\"SirName\":'Jacob'},\n",
        "    {'Name':\"Bafin\",\"SirName\":\"Baby\"},\n",
        "    {'Name':\"Anly\",\"SirName\":\"Anders\"},\n",
        "    {'Name':\"Joel\",\"SirName\":\"Lovejo\"},\n",
        "    {'Name':\"Noah\",\"SirName\":\"Arun\"}]\n",
        "dfl=pd.DataFrame( l )\n",
        "print(dfl)\n",
        "for ( row_index , row_value ) in dfl.iterrows ( ) :\n",
        "    print ( \" \\n Row index is :: \" , row_index )\n",
        "    print ( ' Row Value is :: ' )\n",
        "    print ( row_value )"
      ],
      "metadata": {
        "colab": {
          "base_uri": "https://localhost:8080/"
        },
        "id": "J238hcx4U8Rq",
        "outputId": "70b8b231-f56b-4aa7-f2a6-dcf8ecfab45c"
      },
      "execution_count": 11,
      "outputs": [
        {
          "output_type": "stream",
          "name": "stdout",
          "text": [
            "     Name   SirName\n",
            "0  Sachin  Bhardwaj\n",
            "1   Romit      Paul\n",
            "2  Jithin     Jacob\n",
            "3   Bafin      Baby\n",
            "4    Anly    Anders\n",
            "5    Joel    Lovejo\n",
            "6    Noah      Arun\n",
            " \n",
            " Row index is ::  0\n",
            " Row Value is :: \n",
            "Name         Sachin\n",
            "SirName    Bhardwaj\n",
            "Name: 0, dtype: object\n",
            " \n",
            " Row index is ::  1\n",
            " Row Value is :: \n",
            "Name       Romit\n",
            "SirName     Paul\n",
            "Name: 1, dtype: object\n",
            " \n",
            " Row index is ::  2\n",
            " Row Value is :: \n",
            "Name       Jithin\n",
            "SirName     Jacob\n",
            "Name: 2, dtype: object\n",
            " \n",
            " Row index is ::  3\n",
            " Row Value is :: \n",
            "Name       Bafin\n",
            "SirName     Baby\n",
            "Name: 3, dtype: object\n",
            " \n",
            " Row index is ::  4\n",
            " Row Value is :: \n",
            "Name         Anly\n",
            "SirName    Anders\n",
            "Name: 4, dtype: object\n",
            " \n",
            " Row index is ::  5\n",
            " Row Value is :: \n",
            "Name         Joel\n",
            "SirName    Lovejo\n",
            "Name: 5, dtype: object\n",
            " \n",
            " Row index is ::  6\n",
            " Row Value is :: \n",
            "Name       Noah\n",
            "SirName    Arun\n",
            "Name: 6, dtype: object\n"
          ]
        }
      ]
    },
    {
      "cell_type": "code",
      "source": [
        "#Select the last two columns of the data frame \n",
        "import pandas as pd\n",
        "list = [ { \" Name \" : ' Sachin ' , ' SirName ' : \" Bhardwaj \" } ,\n",
        "     { \" Name \" : \" Vinod \" , \" SirName \" : \" Verma \" } ]\n",
        "df1 = pd.DataFrame (list )\n",
        "print ( df1 )\n",
        "for ( col_name , col_value ) in df1.iteritems ( ) :\n",
        "    print ( \" \\n \" )\n",
        "    print(\"First Column\")\n",
        "    print ( \" Column Name is :: \" , col_name )\n",
        "    print(\"Second Column\")\n",
        "    print ( \"Column Values are :: \" )\n",
        "    print ( col_value )"
      ],
      "metadata": {
        "colab": {
          "base_uri": "https://localhost:8080/"
        },
        "id": "uBzOLsifXj5G",
        "outputId": "a5a15e5c-217f-4a83-df21-cf21083703c1"
      },
      "execution_count": 14,
      "outputs": [
        {
          "output_type": "stream",
          "name": "stdout",
          "text": [
            "      Name     SirName \n",
            "0   Sachin    Bhardwaj \n",
            "1    Vinod       Verma \n",
            " \n",
            " \n",
            " Column Name is ::   Name \n",
            " Column Values are :: \n",
            "0     Sachin \n",
            "1      Vinod \n",
            "Name:  Name , dtype: object\n",
            " \n",
            " \n",
            " Column Name is ::   SirName \n",
            " Column Values are :: \n",
            "0     Bhardwaj \n",
            "1        Verma \n",
            "Name:  SirName , dtype: object\n"
          ]
        }
      ]
    },
    {
      "cell_type": "code",
      "source": [
        "#Add two data frames\n",
        "import pandas as pd\n",
        "s= pd.Series([5,50,20,70])\n",
        "df= pd.DataFrame(s)\n",
        "df.columns= ['List1']\n",
        "df['List2']= 10\n",
        "df['SumList']=df['List1']+df['List2']\n",
        "print(df)"
      ],
      "metadata": {
        "colab": {
          "base_uri": "https://localhost:8080/"
        },
        "id": "YDVTn3f_ZBZY",
        "outputId": "79ed1bea-315b-45a8-ee74-d042524db0bd"
      },
      "execution_count": 15,
      "outputs": [
        {
          "output_type": "stream",
          "name": "stdout",
          "text": [
            "   List1  List2  SumList\n",
            "0      5     10       15\n",
            "1     50     10       60\n",
            "2     20     10       30\n",
            "3     70     10       80\n"
          ]
        }
      ]
    },
    {
      "cell_type": "code",
      "source": [
        "#Demonstrate deletion, and renaming of columns\n",
        "\n",
        "import pandas as pd\n",
        "s1= pd.Series([10, 15, 20, 25])\n",
        "s2= pd.Series([20, 25, 30, 35])\n",
        "s3= pd.Series([30, 35, 40, 45])\n",
        "s4= pd.Series([40, 45, 50, 55])\n",
        "\n",
        "df1= pd.DataFrame(s1)\n",
        "df2= pd.DataFrame(s2)\n",
        "df3= pd.DataFrame(s3)\n",
        "df4= pd.DataFrame(s4)\n",
        "\n",
        "df1.columns=['Column1']\n",
        "print(df1)\n",
        "df2.columns=['Column2']\n",
        "print('\\n',df2)\n",
        "df3.columns=['Column3']\n",
        "print('\\n',df3)\n",
        "df4.columns=['Column4']\n",
        "print('\\n',df4)\n",
        "\n",
        "del df1['Column1']\n",
        "print(df1)\n",
        "\n",
        "dro= df2.drop('Column2', axis=1)\n",
        "print(dro)\n",
        "\n",
        "dro1= df3.drop(index=[2,3], axis=0)\n",
        "print(dro1)\n"
      ],
      "metadata": {
        "colab": {
          "base_uri": "https://localhost:8080/"
        },
        "id": "kVRKlsbwdW1M",
        "outputId": "ce23967a-28e0-464c-cc94-4b0b986c4363"
      },
      "execution_count": 16,
      "outputs": [
        {
          "output_type": "stream",
          "name": "stdout",
          "text": [
            "   Column1\n",
            "0       10\n",
            "1       15\n",
            "2       20\n",
            "3       25\n",
            "\n",
            "    Column2\n",
            "0       20\n",
            "1       25\n",
            "2       30\n",
            "3       35\n",
            "\n",
            "    Column3\n",
            "0       30\n",
            "1       35\n",
            "2       40\n",
            "3       45\n",
            "\n",
            "    Column4\n",
            "0       40\n",
            "1       45\n",
            "2       50\n",
            "3       55\n",
            "Empty DataFrame\n",
            "Columns: []\n",
            "Index: [0, 1, 2, 3]\n",
            "Empty DataFrame\n",
            "Columns: []\n",
            "Index: [0, 1, 2, 3]\n",
            "   Column3\n",
            "0       30\n",
            "1       35\n"
          ]
        }
      ]
    },
    {
      "cell_type": "code",
      "source": [
        "#Demonstrate concat, Merge operations in data frame\n",
        "import pandas as pd\n",
        "dict1= {'id':['1','2','3','4','5'],\n",
        "        'Value1':['A','C','E','G','I'],\n",
        "        'Value2':['B','D','F','H','J']}\n",
        "dict2= {'id':['2','3','6','7','8'],\n",
        "        'Value1':['K','M','O','Q','S'],\n",
        "        'Value2':['L','N','P','R','T']}\n",
        "dict3= {'id':['1','2','3','4','5','6','7','8','9','10','11'],\n",
        "        'Value3':[12,13,14,15,16,17,15,12,13,23,25]}\n",
        "\n",
        "df1= pd.DataFrame(dict1)\n",
        "df2= pd.DataFrame(dict2)\n",
        "df3= pd.concat([df1,df2])\n",
        "df4= pd.DataFrame(dict3)\n",
        "df5= pd.merge(df3, df4, on='id')\n",
        "print(df5)\n"
      ],
      "metadata": {
        "colab": {
          "base_uri": "https://localhost:8080/"
        },
        "id": "1srKJ_yXeQYw",
        "outputId": "616fee29-4325-48d9-8f7b-ff96e8a12325"
      },
      "execution_count": 17,
      "outputs": [
        {
          "output_type": "stream",
          "name": "stdout",
          "text": [
            "  id Value1 Value2  Value3\n",
            "0  1      A      B      12\n",
            "1  2      C      D      13\n",
            "2  2      K      L      13\n",
            "3  3      E      F      14\n",
            "4  3      M      N      14\n",
            "5  4      G      H      15\n",
            "6  5      I      J      16\n",
            "7  6      O      P      17\n",
            "8  7      Q      R      15\n",
            "9  8      S      T      12\n"
          ]
        }
      ]
    },
    {
      "cell_type": "code",
      "source": [
        "#\tWrite a Pandas program to join the two given\n",
        " #dataframes along rows and assign all data\n",
        "\t#Test Data:\n",
        "#student_data1:\n",
        "#  student_id         name        marks\n",
        "#         S1  Danniella Fenton    200\n",
        "#         S2      Ryder Storey    210\n",
        "#         S3      Bryce Jensen    190\n",
        "#         S4         Ed Bernal    222\n",
        "#         S5       Kwame Morin    199\n",
        "\n",
        "#student_data2:\n",
        " # student_id         name        marks\n",
        "#        S4  Scarlette Fisher    201\n",
        "#        S5  Carla Williamson    200\n",
        "#         S6       Dante Morse    198\n",
        "#         S7    Kaiser William    219\n",
        "#         S8   Madeeha Preston    201\n",
        "\n",
        "\n"
      ],
      "metadata": {
        "id": "S7uY3vJmeSPR"
      },
      "execution_count": null,
      "outputs": []
    }
  ]
}