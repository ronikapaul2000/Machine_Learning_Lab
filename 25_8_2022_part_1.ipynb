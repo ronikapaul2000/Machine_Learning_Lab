{
  "nbformat": 4,
  "nbformat_minor": 0,
  "metadata": {
    "colab": {
      "name": "25/8/2022 part 1.ipynb",
      "provenance": [],
      "authorship_tag": "ABX9TyPvrlHK50PqWuarnalIyZ7X",
      "include_colab_link": true
    },
    "kernelspec": {
      "name": "python3",
      "display_name": "Python 3"
    },
    "language_info": {
      "name": "python"
    }
  },
  "cells": [
    {
      "cell_type": "markdown",
      "metadata": {
        "id": "view-in-github",
        "colab_type": "text"
      },
      "source": [
        "<a href=\"https://colab.research.google.com/github/ronikapaul2000/Machine_Learning_Lab/blob/main/25_8_2022_part_1.ipynb\" target=\"_parent\"><img src=\"https://colab.research.google.com/assets/colab-badge.svg\" alt=\"Open In Colab\"/></a>"
      ]
    },
    {
      "cell_type": "code",
      "execution_count": null,
      "metadata": {
        "colab": {
          "base_uri": "https://localhost:8080/"
        },
        "id": "1GDFna1dGbd0",
        "outputId": "18e700d6-74f7-470a-d303-70b37bda2f2d"
      },
      "outputs": [
        {
          "output_type": "stream",
          "name": "stdout",
          "text": [
            "0    10\n",
            "1    15\n",
            "2    18\n",
            "3    22\n",
            "dtype: int64\n"
          ]
        }
      ],
      "source": [
        "import pandas as pd\n",
        "import numpy as np \n",
        "\n",
        "arr=np.array([10,15,18,22])\n",
        "s = pd.Series(arr)\n",
        "print(s)"
      ]
    },
    {
      "cell_type": "code",
      "source": [
        "import pandas as pd\n",
        "\n",
        "import numpy as np\n",
        "arr=np.array(['a','b','c','d'])\n",
        "s=pd.Series(arr,\n",
        "index=['first','second','third','fourth'])\n",
        "print(s)"
      ],
      "metadata": {
        "colab": {
          "base_uri": "https://localhost:8080/"
        },
        "id": "LsUwxIWOG0-K",
        "outputId": "319832e2-5ca4-4892-c242-b9c93740efca"
      },
      "execution_count": null,
      "outputs": [
        {
          "output_type": "stream",
          "name": "stdout",
          "text": [
            "first     a\n",
            "second    b\n",
            "third     c\n",
            "fourth    d\n",
            "dtype: object\n"
          ]
        }
      ]
    },
    {
      "cell_type": "code",
      "source": [
        "import pandas as pd\n",
        "s=pd.Series(50,index=[0,1,2,3,4])\n",
        "print(s)"
      ],
      "metadata": {
        "colab": {
          "base_uri": "https://localhost:8080/"
        },
        "id": "NjBksJGXG5mB",
        "outputId": "ffefdb8b-0ea4-45cb-f26b-826cafcb3777"
      },
      "execution_count": null,
      "outputs": [
        {
          "output_type": "stream",
          "name": "stdout",
          "text": [
            "0    50\n",
            "1    50\n",
            "2    50\n",
            "3    50\n",
            "4    50\n",
            "dtype: int64\n"
          ]
        }
      ]
    },
    {
      "cell_type": "code",
      "source": [
        "import pandas as pd\n",
        "d={'Name' : 'Hardik', 'IpItem' : 'MI', 'Runs' : 1500}\n",
        "s=pd.Series(d)\n",
        "print(s)"
      ],
      "metadata": {
        "colab": {
          "base_uri": "https://localhost:8080/"
        },
        "id": "OSk-AV0eHXWS",
        "outputId": "82a9860e-3142-4b2e-f8f4-2502bf9eb79d"
      },
      "execution_count": null,
      "outputs": [
        {
          "output_type": "stream",
          "name": "stdout",
          "text": [
            "Name      Hardik\n",
            "IpItem        MI\n",
            "Runs        1500\n",
            "dtype: object\n"
          ]
        }
      ]
    },
    {
      "cell_type": "code",
      "source": [
        "import pandas as pd\n",
        "s-pd.Series([1,2,3,4,5])\n",
        "print('To Multiply all values inaseries by2')\n",
        "print('-------------------------------------------')\n",
        "print(s*2)\n",
        "print('To Find the Square of all the values in a series')\n",
        "print('------------------------------------------------')\n",
        "print(s**2)\n",
        "print('To print all the values inaseries that are greater than 2')\n",
        "print('---------------------------------------------------------')\n",
        "print(s[s>2])"
      ],
      "metadata": {
        "colab": {
          "base_uri": "https://localhost:8080/"
        },
        "id": "SPoS9KEmK2IG",
        "outputId": "5602108b-3617-4710-edb1-af660d6e120a"
      },
      "execution_count": null,
      "outputs": [
        {
          "output_type": "stream",
          "name": "stdout",
          "text": [
            "To Multiply all values inaseries by2\n",
            "-------------------------------------------\n",
            "0    100\n",
            "1    100\n",
            "2    100\n",
            "3    100\n",
            "4    100\n",
            "dtype: int64\n",
            "To Find the Square of all the values in a series\n",
            "------------------------------------------------\n",
            "0    2500\n",
            "1    2500\n",
            "2    2500\n",
            "3    2500\n",
            "4    2500\n",
            "dtype: int64\n",
            "To print all the values inaseries that are greater than 2\n",
            "---------------------------------------------------------\n",
            "0    50\n",
            "1    50\n",
            "2    50\n",
            "3    50\n",
            "4    50\n",
            "dtype: int64\n"
          ]
        }
      ]
    },
    {
      "cell_type": "code",
      "source": [
        "import pandas as pd\n",
        "s1=pd.Series([1,2,3,4,5],index=['a','b','c','d','e'])\n",
        "s2=pd.Series([10,20,30,40,50],index=['a','b','c','d','e'])\n",
        "s3=pd.Series([5,14,23,32],index=['a','b','c','d'])\n",
        "print('To Add Series1 & series2')\n",
        "print('------------------------------')\n",
        "print(s1+s2)\n",
        "print('To Add Series2 & Series3')\n",
        "print('-----------------------------')                                                                                                                                  \n",
        "print(s2+s3)\n",
        "print('To Add Series2 & series3 and Filled Non Matching Index with 0')\n",
        "print('--------------------------------------------------------------')\n",
        "print(s2.add(53,fill_value=0))"
      ],
      "metadata": {
        "colab": {
          "base_uri": "https://localhost:8080/"
        },
        "id": "6RT7cf_jLHgu",
        "outputId": "b1c934a1-6eee-4a4b-bbfa-9959a9d9e0ef"
      },
      "execution_count": null,
      "outputs": [
        {
          "output_type": "stream",
          "name": "stdout",
          "text": [
            "To Add Series1 & series2\n",
            "------------------------------\n",
            "a    11\n",
            "b    22\n",
            "c    33\n",
            "d    44\n",
            "e    55\n",
            "dtype: int64\n",
            "To Add Series2 & Series3\n",
            "-----------------------------\n",
            "a    15.0\n",
            "b    34.0\n",
            "c    53.0\n",
            "d    72.0\n",
            "e     NaN\n",
            "dtype: float64\n",
            "To Add Series2 & series3 and Filled Non Matching Index with 0\n",
            "--------------------------------------------------------------\n",
            "a     63\n",
            "b     73\n",
            "c     83\n",
            "d     93\n",
            "e    103\n",
            "dtype: int64\n"
          ]
        }
      ]
    },
    {
      "cell_type": "code",
      "source": [
        "import pandas as pd\n",
        "import numpy as np\n",
        "arr=np.array([10,15,18,22,55,77,42,48,97])\n",
        "#createaseries from array\n",
        "                        \n",
        "s=pd.Series(arr)\n",
        "#to print fiest5rows\n",
        "print(s.head())\n",
        "#To print first3rows\n",
        "print(s.head(3))"
      ],
      "metadata": {
        "colab": {
          "base_uri": "https://localhost:8080/"
        },
        "id": "0cgWsjReMpFU",
        "outputId": "3eefe8ce-2e6a-430d-ac76-066060557845"
      },
      "execution_count": null,
      "outputs": [
        {
          "output_type": "stream",
          "name": "stdout",
          "text": [
            "0    10\n",
            "1    15\n",
            "2    18\n",
            "3    22\n",
            "4    55\n",
            "dtype: int64\n",
            "0    10\n",
            "1    15\n",
            "2    18\n",
            "dtype: int64\n"
          ]
        }
      ]
    },
    {
      "cell_type": "code",
      "source": [
        "import pandas as pd\n",
        "import numpy as np\n",
        "arr=np.array([10,15,18,22,55,77,42,48,97])\n",
        "#createaseries from array\n",
        "s=pd.Series(arr)\n",
        "#to print last5rows\n",
        "print(s.tail())\n",
        "#To print Last4rows\n",
        "print(s.tail(4))"
      ],
      "metadata": {
        "colab": {
          "base_uri": "https://localhost:8080/"
        },
        "id": "F3NREoseM4Og",
        "outputId": "4828f766-47dd-49e9-911f-26006c651140"
      },
      "execution_count": null,
      "outputs": [
        {
          "output_type": "stream",
          "name": "stdout",
          "text": [
            "4    55\n",
            "5    77\n",
            "6    42\n",
            "7    48\n",
            "8    97\n",
            "dtype: int64\n",
            "5    77\n",
            "6    42\n",
            "7    48\n",
            "8    97\n",
            "dtype: int64\n"
          ]
        }
      ]
    },
    {
      "cell_type": "code",
      "source": [
        "import pandas as pd\n",
        "import numpy as np\n",
        "arr=np.array([10,15,18,22,55,77])\n",
        "s=pd.Series(arr)\n",
        "print(s)\n",
        "print(s.loc[:2])\n",
        "print(s.loc[3:4])\n",
        "s.loc[2:3]"
      ],
      "metadata": {
        "colab": {
          "base_uri": "https://localhost:8080/"
        },
        "id": "Jn22s2FHM_6Z",
        "outputId": "e4035093-e622-4e5f-9c26-01ca3aa1ba30"
      },
      "execution_count": null,
      "outputs": [
        {
          "output_type": "stream",
          "name": "stdout",
          "text": [
            "0    10\n",
            "1    15\n",
            "2    18\n",
            "3    22\n",
            "4    55\n",
            "5    77\n",
            "dtype: int64\n",
            "0    10\n",
            "1    15\n",
            "2    18\n",
            "dtype: int64\n",
            "3    22\n",
            "4    55\n",
            "dtype: int64\n"
          ]
        },
        {
          "output_type": "execute_result",
          "data": {
            "text/plain": [
              "2    18\n",
              "3    22\n",
              "dtype: int64"
            ]
          },
          "metadata": {},
          "execution_count": 28
        }
      ]
    },
    {
      "cell_type": "code",
      "source": [
        "import pandas as pd\n",
        "import numpy as np\n",
        "arr=np.array([10,15,18,22,55,77])\n",
        "s=pd.Series(arr)\n",
        "print(s)\n",
        "print(s.iloc[:2])\n",
        "print(s.iloc[3:4])\n",
        "s.iloc[2:3]\n",
        "                            "
      ],
      "metadata": {
        "colab": {
          "base_uri": "https://localhost:8080/"
        },
        "id": "ERCXGCIDNzdT",
        "outputId": "fa689486-c9e8-465f-a7d4-2f8fcce394b3"
      },
      "execution_count": null,
      "outputs": [
        {
          "output_type": "stream",
          "name": "stdout",
          "text": [
            "0    10\n",
            "1    15\n",
            "2    18\n",
            "3    22\n",
            "4    55\n",
            "5    77\n",
            "dtype: int64\n",
            "0    10\n",
            "1    15\n",
            "dtype: int64\n",
            "3    22\n",
            "dtype: int64\n"
          ]
        },
        {
          "output_type": "execute_result",
          "data": {
            "text/plain": [
              "2    18\n",
              "dtype: int64"
            ]
          },
          "metadata": {},
          "execution_count": 29
        }
      ]
    },
    {
      "cell_type": "code",
      "source": [
        "import pandas as pd\n",
        "import numpy as np\n",
        "arr=np.array([10,15,18,22,55,77])\n",
        "s=pd.Series(arr)\n",
        "print(s)\n",
        "print(s[1])\n",
        "print('\\n')\n",
        "print(s[3:4])\n",
        "s[:3]\n",
        "\n",
        "                              "
      ],
      "metadata": {
        "colab": {
          "base_uri": "https://localhost:8080/"
        },
        "id": "QyKD5nl5OBXq",
        "outputId": "d4b75786-8762-4e33-f505-ce5dc04bdf45"
      },
      "execution_count": null,
      "outputs": [
        {
          "output_type": "stream",
          "name": "stdout",
          "text": [
            "0    10\n",
            "1    15\n",
            "2    18\n",
            "3    22\n",
            "4    55\n",
            "5    77\n",
            "dtype: int64\n",
            "15\n",
            "\n",
            "\n",
            "3    22\n",
            "dtype: int64\n"
          ]
        },
        {
          "output_type": "execute_result",
          "data": {
            "text/plain": [
              "0    10\n",
              "1    15\n",
              "2    18\n",
              "dtype: int64"
            ]
          },
          "metadata": {},
          "execution_count": 30
        }
      ]
    },
    {
      "cell_type": "code",
      "source": [
        "import pandas as pd\n",
        "import numpy as np\n",
        "arr=np.array(['a','b','c','d'],)\n",
        "s=pd.Series(arr,index=['first','second','third','fourth'])\n",
        "print(s)\n",
        "#To print only indexes in series\n",
        "print(\"\\n indexes in Series are ::: \")\n",
        "print(s.index)"
      ],
      "metadata": {
        "colab": {
          "base_uri": "https://localhost:8080/"
        },
        "id": "4CDe4OZsOLLC",
        "outputId": "210a6551-9e2d-4a5d-e206-2abcfb85fb66"
      },
      "execution_count": null,
      "outputs": [
        {
          "output_type": "stream",
          "name": "stdout",
          "text": [
            "first     a\n",
            "second    b\n",
            "third     c\n",
            "fourth    d\n",
            "dtype: object\n",
            "\n",
            " indexes in Series are ::: \n",
            "Index(['first', 'second', 'third', 'fourth'], dtype='object')\n"
          ]
        }
      ]
    },
    {
      "cell_type": "code",
      "source": [
        "import pandas as pd\n",
        "import numpy as np\n",
        "arr=np.array([10,15,18,22,55,77])\n",
        "s=pd.Series(arr,index=['A','B','C','D','E','F'])\n",
        "print(s)\n",
        "print(s[1:5:2])\n",
        "print(s[0:6:2])"
      ],
      "metadata": {
        "colab": {
          "base_uri": "https://localhost:8080/"
        },
        "id": "aOoYvDwGOhI_",
        "outputId": "f26883f4-cb33-4334-b3c6-2ffcbd1f6dee"
      },
      "execution_count": null,
      "outputs": [
        {
          "output_type": "stream",
          "name": "stdout",
          "text": [
            "A    10\n",
            "B    15\n",
            "C    18\n",
            "D    22\n",
            "E    55\n",
            "F    77\n",
            "dtype: int64\n",
            "B    15\n",
            "D    22\n",
            "dtype: int64\n",
            "A    10\n",
            "C    18\n",
            "E    55\n",
            "dtype: int64\n"
          ]
        }
      ]
    },
    {
      "cell_type": "code",
      "source": [
        "import pandas as pd\n",
        "df=pd.DataFrame()\n",
        "print(df)"
      ],
      "metadata": {
        "colab": {
          "base_uri": "https://localhost:8080/"
        },
        "id": "R4grPiXfO6db",
        "outputId": "91cd3dfd-7877-4270-8b66-c97127df1f98"
      },
      "execution_count": null,
      "outputs": [
        {
          "output_type": "stream",
          "name": "stdout",
          "text": [
            "Empty DataFrame\n",
            "Columns: []\n",
            "Index: []\n"
          ]
        }
      ]
    },
    {
      "cell_type": "code",
      "source": [
        "import pandas as pd\n",
        "s=pd.Series(['a','b','c','d'])\n",
        "df=pd.DataFrame(s)\n",
        "print(df)"
      ],
      "metadata": {
        "colab": {
          "base_uri": "https://localhost:8080/"
        },
        "id": "tgRl9KyiPHij",
        "outputId": "1f1d952c-d33c-48e8-8231-558569c12079"
      },
      "execution_count": null,
      "outputs": [
        {
          "output_type": "stream",
          "name": "stdout",
          "text": [
            "   0\n",
            "0  a\n",
            "1  b\n",
            "2  c\n",
            "3  d\n"
          ]
        }
      ]
    },
    {
      "cell_type": "code",
      "source": [
        "import pandas as pd\n",
        "name=pd.Series(['Hardik','Virat'])\n",
        "team=pd.Series(['MI','RCB'])\n",
        "dic={'Name':name,'Team':team}\n",
        "df=pd.DataFrame(dic)\n",
        "print(df)"
      ],
      "metadata": {
        "colab": {
          "base_uri": "https://localhost:8080/"
        },
        "id": "Tc05k9sfPaUE",
        "outputId": "93530266-9dea-4874-e3ab-04cc900b045d"
      },
      "execution_count": null,
      "outputs": [
        {
          "output_type": "stream",
          "name": "stdout",
          "text": [
            "     Name Team\n",
            "0  Hardik   MI\n",
            "1   Virat  RCB\n"
          ]
        }
      ]
    },
    {
      "cell_type": "code",
      "source": [
        "import pandas as pd\n",
        "l=[{'Name':'Sachin','SirName':'Bhardwaj'},\n",
        "     {'Name':'Vinod','SirName':'Verma'},\n",
        "     {'Name':'Rajesh','SirName':'Mishra'}]\n",
        "dfl=pd.DataFrame(l)\n",
        "print(dfl)"
      ],
      "metadata": {
        "colab": {
          "base_uri": "https://localhost:8080/"
        },
        "id": "iHftsl7mPjfr",
        "outputId": "d3d8f0f9-5683-4d06-efd0-a92a9ddbdc67"
      },
      "execution_count": null,
      "outputs": [
        {
          "output_type": "stream",
          "name": "stdout",
          "text": [
            "     Name   SirName\n",
            "0  Sachin  Bhardwaj\n",
            "1   Vinod     Verma\n",
            "2  Rajesh    Mishra\n"
          ]
        }
      ]
    },
    {
      "cell_type": "code",
      "source": [
        "import pandas as pd\n",
        "l=[{'Name':'Sachin','SirName':'Bhardwaj'},\n",
        "    {\"Name':'Vinod','SirName\":'Verma'}]\n",
        "dfl=pd.DataFrame(l)\n",
        "print(dfl)\n",
        "for(row_index,row_value)in dfl.iterrows():\n",
        "    print('\\nRow index is ::',row_index)\n",
        "    print('Row Value is ::')\n",
        "    print(row_value)"
      ],
      "metadata": {
        "colab": {
          "base_uri": "https://localhost:8080/"
        },
        "id": "Te7oqRtaQHWT",
        "outputId": "69f7932e-d867-4996-cb7c-654e1da3617d"
      },
      "execution_count": null,
      "outputs": [
        {
          "output_type": "stream",
          "name": "stdout",
          "text": [
            "     Name   SirName Name':'Vinod','SirName\n",
            "0  Sachin  Bhardwaj                    NaN\n",
            "1     NaN       NaN                  Verma\n",
            "\n",
            "Row index is :: 0\n",
            "Row Value is ::\n",
            "Name                        Sachin\n",
            "SirName                   Bhardwaj\n",
            "Name':'Vinod','SirName         NaN\n",
            "Name: 0, dtype: object\n",
            "\n",
            "Row index is :: 1\n",
            "Row Value is ::\n",
            "Name                        NaN\n",
            "SirName                     NaN\n",
            "Name':'Vinod','SirName    Verma\n",
            "Name: 1, dtype: object\n"
          ]
        }
      ]
    },
    {
      "cell_type": "code",
      "source": [],
      "metadata": {
        "id": "gASqmYc1Qaa7"
      },
      "execution_count": null,
      "outputs": []
    }
  ]
}